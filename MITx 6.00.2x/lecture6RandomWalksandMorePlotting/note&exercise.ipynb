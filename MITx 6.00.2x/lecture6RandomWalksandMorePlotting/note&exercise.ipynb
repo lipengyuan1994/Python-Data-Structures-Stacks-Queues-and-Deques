{
 "cells": [
  {
   "cell_type": "markdown",
   "metadata": {},
   "source": [
    "![Imgur](https://i.imgur.com/XgzDHlG.png)"
   ]
  },
  {
   "cell_type": "markdown",
   "metadata": {},
   "source": []
  },
  {
   "cell_type": "code",
   "execution_count": 64,
   "metadata": {},
   "outputs": [
    {
     "name": "stdout",
     "output_type": "stream",
     "text": [
      "[7]\n"
     ]
    }
   ],
   "source": [
    "import random\n",
    "mylist = []\n",
    "\n",
    "for i in range(random.randint(1, 10)):\n",
    "    random.seed(0)\n",
    "    if random.randint(1, 10) > 3:\n",
    "        number = random.randint(1, 10)\n",
    "        mylist.append(number)\n",
    "print(mylist)\n"
   ]
  },
  {
   "cell_type": "code",
   "execution_count": null,
   "metadata": {},
   "outputs": [],
   "source": []
  },
  {
   "cell_type": "code",
   "execution_count": 65,
   "metadata": {},
   "outputs": [
    {
     "name": "stdout",
     "output_type": "stream",
     "text": [
      "[7]\n"
     ]
    }
   ],
   "source": [
    "import random\n",
    "\n",
    "# Code Sample A\n",
    "mylist = []\n",
    "\n",
    "for i in range(random.randint(1, 10)):\n",
    "    random.seed(0)\n",
    "    if random.randint(1, 10) > 3:\n",
    "        number = random.randint(1, 10)\n",
    "        if number not in mylist:\n",
    "            mylist.append(number)\n",
    "print(mylist)\n",
    "\n",
    "    \n",
    "    \n"
   ]
  },
  {
   "cell_type": "code",
   "execution_count": 66,
   "metadata": {},
   "outputs": [
    {
     "name": "stdout",
     "output_type": "stream",
     "text": [
      "[1]\n",
      "[1, 9]\n",
      "[1, 9, 7]\n",
      "[1, 9, 7, 8]\n",
      "[1, 9, 7, 8, 10]\n",
      "[1, 9, 7, 8, 10, 9]\n",
      "[1, 9, 7, 8, 10, 9]\n"
     ]
    }
   ],
   "source": [
    "# Code Sample B\n",
    "mylist = []\n",
    "\n",
    "random.seed(0)\n",
    "for i in range(random.randint(1, 10)):\n",
    "    if random.randint(1, 10) > 3:\n",
    "        number = random.randint(1, 10)\n",
    "        mylist.append(number)\n",
    "    print(mylist)"
   ]
  },
  {
   "cell_type": "code",
   "execution_count": null,
   "metadata": {},
   "outputs": [],
   "source": []
  },
  {
   "cell_type": "code",
   "execution_count": null,
   "metadata": {},
   "outputs": [],
   "source": []
  }
 ],
 "metadata": {
  "kernelspec": {
   "display_name": "Python 3",
   "language": "python",
   "name": "python3"
  },
  "language_info": {
   "codemirror_mode": {
    "name": "ipython",
    "version": 3
   },
   "file_extension": ".py",
   "mimetype": "text/x-python",
   "name": "python",
   "nbconvert_exporter": "python",
   "pygments_lexer": "ipython3",
   "version": "3.7.6"
  }
 },
 "nbformat": 4,
 "nbformat_minor": 4
}
