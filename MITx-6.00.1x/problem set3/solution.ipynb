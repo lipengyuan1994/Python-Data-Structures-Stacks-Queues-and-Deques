{
 "cells": [
  {
   "cell_type": "code",
   "execution_count": null,
   "metadata": {},
   "outputs": [],
   "source": [
    "# Hangman game\n",
    "#\n",
    "\n",
    "# -----------------------------------\n",
    "# Helper code\n",
    "# You don't need to understand this helper code,\n",
    "# but you will have to know how to use the functions\n",
    "# (so be sure to read the docstrings!)\n",
    "\n",
    "import random\n",
    "\n",
    "WORDLIST_FILENAME = \"words.txt\"\n",
    "\n",
    "def loadWords():\n",
    "    \"\"\"\n",
    "    Returns a list of valid words. Words are strings of lowercase letters.\n",
    "    \n",
    "    Depending on the size of the word list, this function may\n",
    "    take a while to finish.\n",
    "    \"\"\"\n",
    "    print(\"Loading word list from file...\")\n",
    "    # inFile: file\n",
    "    inFile = open(WORDLIST_FILENAME, 'r')\n",
    "    # line: string\n",
    "    line = inFile.readline()\n",
    "    # wordlist: list of strings\n",
    "    wordlist = line.split()\n",
    "    print(\"  \", len(wordlist), \"words loaded.\")\n",
    "    return wordlist\n",
    "\n",
    "def chooseWord(wordlist):\n",
    "    \"\"\"\n",
    "    wordlist (list): list of words (strings)\n",
    "\n",
    "    Returns a word from wordlist at random\n",
    "    \"\"\"\n",
    "    return random.choice(wordlist)\n",
    "\n",
    "# end of helper code\n",
    "# -----------------------------------\n",
    "\n",
    "# Load the list of words into the variable wordlist\n",
    "# so that it can be accessed from anywhere in the program\n",
    "wordlist = loadWords()\n",
    "\n",
    "def isWordGuessed(secretWord, lettersGuessed):\n",
    "    '''\n",
    "    secretWord: string, the word the user is guessing\n",
    "    lettersGuessed: list, what letters have been guessed so far\n",
    "    returns: boolean, True if all the letters of secretWord are in lettersGuessed;\n",
    "      False otherwise\n",
    "    '''\n",
    "    return {i for i in secretWord}.issubset({i for i in lettersGuessed})\n",
    "\n",
    "\n",
    "\n",
    "def getGuessedWord(secretWord, lettersGuessed):\n",
    "    '''\n",
    "    secretWord: string, the word the user is guessing\n",
    "    lettersGuessed: list, what letters have been guessed so far\n",
    "    returns: string, comprised of letters and underscores that represents\n",
    "      what letters in secretWord have been guessed so far.\n",
    "    '''\n",
    "    return ''.join([i if i in lettersGuessed else '_ ' for i in secretWord ])\n",
    "'''https://stackoverflow.com/questions/4260280/if-else-in-a-list-comprehension'''\n",
    "\n",
    "def getAvailableLetters(lettersGuessed):\n",
    "    '''\n",
    "    lettersGuessed: list, what letters have been guessed so far\n",
    "    returns: string, comprised of letters that represents what letters have not\n",
    "      yet been guessed.\n",
    "    '''\n",
    "    import string\n",
    "    all = string.ascii_lowercase\n",
    "    return ''.join([i for i in all if i not in lettersGuessed])\n",
    "\n",
    "def hangman(secretWord):\n",
    "    '''\n",
    "    secretWord: string, the secret word to guess.\n",
    "    Starts up an interactive game of Hangman.\n",
    "    * At the start of the game, let the user know how many \n",
    "      letters the secretWord contains.\n",
    "    * Ask the user to supply one guess (i.e. letter) per round.\n",
    "    * The user should receive feedback immediately after each guess \n",
    "      about whether their guess appears in the computers word.\n",
    "    * After each round, you should also display to the user the \n",
    "      partially guessed word so far, as well as letters that the \n",
    "      user has not yet guessed.\n",
    "    Follows the other limitations detailed in the problem write-up.\n",
    "    '''\n",
    "    \n",
    "    # Establish necessary variables.    \n",
    "    numGuesses = 8\n",
    "    lettersGuessed = []\n",
    "    \n",
    "    # Introductory text, when starting the game.\n",
    "    print(\"Welcome to the game, Hangman!\")\n",
    "    print(\"I am thinking of a word that is\", str(len(secretWord)), \"letters long.\")\n",
    "    \n",
    "    # Game logic flow.\n",
    "    while True:\n",
    "        print(\"-------------\")\n",
    "        print(\"You have\", numGuesses, \"guesses left.\")\n",
    "        print(\"Available letters:\", getAvailableLetters(lettersGuessed))\n",
    "        userGuess = input(\"Please guess a letter: \")\n",
    "        userGuess = userGuess.lower()\n",
    "        \n",
    "        # If the letter has already been guesssed, let user know.\n",
    "        if userGuess in lettersGuessed:\n",
    "            print(\"Oops! You've already guessed that letter:\", getGuessedWord(secretWord, lettersGuessed))\n",
    "       \n",
    "        # If the letter is correct, let user know.\n",
    "        elif userGuess in secretWord:        \n",
    "            lettersGuessed.append(userGuess)\n",
    "            print(\"Good guess:\", getGuessedWord(secretWord, lettersGuessed))\n",
    "        \n",
    "        # If the letter is incorrect, reduce number of guesses and let user know.\n",
    "        else:\n",
    "            numGuesses -= 1\n",
    "            lettersGuessed.append(userGuess)\n",
    "            print(\"Oops! That letter is not in my word:\", getGuessedWord(secretWord, lettersGuessed))\n",
    "        \n",
    "        # If you run out of guesses, end game.\n",
    "        if numGuesses == 0:\n",
    "            print(\"-------------\")\n",
    "            print(\"Sorry, you ran out of guesses. The word was\", secretWord + \".\")\n",
    "            break\n",
    "        \n",
    "        # If you guess the word correctly, end game.\n",
    "        elif isWordGuessed(secretWord, lettersGuessed) == True:\n",
    "            print(\"------------\")\n",
    "            print(\"Congratulations, you won!\")\n",
    "            break\n",
    "\n",
    "    \n",
    "# When you've completed your hangman function, uncomment these two lines\n",
    "# and run this file to test! (hint: you might want to pick your own\n",
    "# secretWord while you're testing)\n",
    "\n",
    "# secretWord = chooseWord(wordlist).lower()\n",
    "\n",
    "hangman(secretWord)"
   ]
  },
  {
   "cell_type": "code",
   "execution_count": 97,
   "metadata": {},
   "outputs": [],
   "source": [
    "def getGuessedWord(secretWord, lettersGuessed):\n",
    "    return ''.join([i if i in lettersGuessed else '_ ' for i in secretWord ])\n",
    "        \n",
    "    \n"
   ]
  },
  {
   "cell_type": "code",
   "execution_count": 106,
   "metadata": {},
   "outputs": [],
   "source": []
  },
  {
   "cell_type": "code",
   "execution_count": 107,
   "metadata": {},
   "outputs": [
    {
     "name": "stdout",
     "output_type": "stream",
     "text": [
      "abcdfghjlmnoqtuvwxyz\n"
     ]
    }
   ],
   "source": [
    ">>> lettersGuessed = ['e', 'i', 'k', 'p', 'r', 's']\n",
    ">>> print(getAvailableLetters(lettersGuessed))\n"
   ]
  },
  {
   "cell_type": "code",
   "execution_count": 115,
   "metadata": {},
   "outputs": [],
   "source": [
    "a = ['a','v','c']\n",
    "b = ['c']\n",
    "# ans = [i for i in a if i not in b]\n",
    "# ans = [i if i not in b else 0 for i in a]\n",
    "ans = [i for i in a if i not in b]"
   ]
  },
  {
   "cell_type": "code",
   "execution_count": 116,
   "metadata": {},
   "outputs": [
    {
     "data": {
      "text/plain": [
       "['a', 'v']"
      ]
     },
     "execution_count": 116,
     "metadata": {},
     "output_type": "execute_result"
    }
   ],
   "source": [
    "ans\n"
   ]
  },
  {
   "cell_type": "code",
   "execution_count": null,
   "metadata": {},
   "outputs": [],
   "source": []
  }
 ],
 "metadata": {
  "kernelspec": {
   "display_name": "Python 3",
   "language": "python",
   "name": "python3"
  },
  "language_info": {
   "codemirror_mode": {
    "name": "ipython",
    "version": 3
   },
   "file_extension": ".py",
   "mimetype": "text/x-python",
   "name": "python",
   "nbconvert_exporter": "python",
   "pygments_lexer": "ipython3",
   "version": "3.6.9"
  }
 },
 "nbformat": 4,
 "nbformat_minor": 4
}
