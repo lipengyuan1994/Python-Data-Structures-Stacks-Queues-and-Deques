{
 "cells": [
  {
   "cell_type": "markdown",
   "metadata": {},
   "source": [
    "* In this challenge, your prompt is to create a function that takes in a string of symbol pairs as a parameter. \n",
    "* The function should return true if the symbol string is balanced or false if it isn't. Here's what we mean by a symbol string. The string should only contain opening and closing symbols like open and closed parenthesis, open and close square brackets, or open and close curly braces.\n",
    "* This is to mimic what happens in your text editor when the linter is checking for whether or not you remembered to close all of your opening symbols. In order for symbols to be balanced, each opening symbol should also have a closing symbol. And the symbols must be properly nested. You should, of course, make use of a stack in your solution. Here are some examples of what I mean by balanced symbols. And here are examples of unbalanced symbols. It's pretty obvious.\n",
    "* This is the same as the Leetcode https://leetcode.com/problems/valid-parentheses/"
   ]
  },
  {
   "cell_type": "code",
   "execution_count": 4,
   "metadata": {},
   "outputs": [],
   "source": [
    "# class Stack:\n",
    "\n",
    "#     def __init__(self):\n",
    "#         self.items = []\n",
    "\n",
    "#     def push(self, item):\n",
    "#         self.items.append(item)\n",
    "\n",
    "#     def pop(self):\n",
    "#         return self.items.pop()\n",
    "\n",
    "#     def is_empty(self):\n",
    "#         return self.items == []\n",
    "\n",
    "\n",
    "def match_symbols(symbol_str):\n",
    "\n",
    "    symbol_pairs = {\n",
    "        '(': ')',\n",
    "        '[': ']',\n",
    "        '{': '}',\n",
    "    }\n",
    "\n",
    "    openers = symbol_pairs.keys()\n",
    "    my_stack = Stack()\n",
    "\n",
    "    index = 0\n",
    "    while index < len(symbol_str):\n",
    "        symbol = symbol_str[index]\n",
    "\n",
    "        if symbol in openers:\n",
    "            my_stack.push(symbol)\n",
    "        else:  # The symbol is a closer\n",
    "\n",
    "            # If the Stack is already empty, the symbols are not balanced\n",
    "            if my_stack.is_empty():\n",
    "                return False\n",
    "\n",
    "            # If there are still items in the Stack, check for a mis-match.\n",
    "            else:\n",
    "                top_item = my_stack.pop()\n",
    "                if symbol != symbol_pairs[top_item]:\n",
    "                    return False\n",
    "\n",
    "        index += 1\n",
    "\n",
    "    if my_stack.is_empty():\n",
    "        return True\n",
    "\n",
    "    return False  # Stack is not empty so symbols were not balanced\n",
    "\n"
   ]
  },
  {
   "cell_type": "code",
   "execution_count": 6,
   "metadata": {},
   "outputs": [
    {
     "name": "stdout",
     "output_type": "stream",
     "text": [
      "True\n",
      "False\n",
      "CPU times: user 206 µs, sys: 70 µs, total: 276 µs\n",
      "Wall time: 248 µs\n"
     ]
    }
   ],
   "source": [
    "%%time\n",
    "print(match_symbols('([{}])'))\n",
    "print(match_symbols('(([{}]])'))\n"
   ]
  },
  {
   "cell_type": "code",
   "execution_count": null,
   "metadata": {},
   "outputs": [],
   "source": []
  }
 ],
 "metadata": {
  "kernelspec": {
   "display_name": "Python 3",
   "language": "python",
   "name": "python3"
  },
  "language_info": {
   "codemirror_mode": {
    "name": "ipython",
    "version": 3
   },
   "file_extension": ".py",
   "mimetype": "text/x-python",
   "name": "python",
   "nbconvert_exporter": "python",
   "pygments_lexer": "ipython3",
   "version": "3.6.6"
  }
 },
 "nbformat": 4,
 "nbformat_minor": 2
}
