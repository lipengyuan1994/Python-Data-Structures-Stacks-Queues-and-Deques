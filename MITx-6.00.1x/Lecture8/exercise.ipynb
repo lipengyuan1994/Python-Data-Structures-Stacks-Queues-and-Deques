{
 "cells": [
  {
   "cell_type": "code",
   "execution_count": 1,
   "metadata": {},
   "outputs": [],
   "source": [
    "def fancy_divide(numbers,index):\n",
    "    try:\n",
    "        denom = numbers[index]\n",
    "        for i in range(len(numbers)):\n",
    "            numbers[i] /= denom\n",
    "    except IndexError:\n",
    "        print(\"-1\")\n",
    "    else:\n",
    "        print(\"1\")\n",
    "    finally:\n",
    "        print(\"0\")"
   ]
  },
  {
   "cell_type": "code",
   "execution_count": 2,
   "metadata": {},
   "outputs": [
    {
     "name": "stdout",
     "output_type": "stream",
     "text": [
      "1\n",
      "0\n"
     ]
    }
   ],
   "source": [
    "fancy_divide([0, 2, 4], 1)"
   ]
  },
  {
   "cell_type": "code",
   "execution_count": 3,
   "metadata": {},
   "outputs": [
    {
     "name": "stdout",
     "output_type": "stream",
     "text": [
      "-1\n",
      "0\n"
     ]
    }
   ],
   "source": [
    "fancy_divide([0, 2, 4], 4)"
   ]
  },
  {
   "cell_type": "code",
   "execution_count": 4,
   "metadata": {},
   "outputs": [
    {
     "name": "stdout",
     "output_type": "stream",
     "text": [
      "0\n"
     ]
    },
    {
     "ename": "ZeroDivisionError",
     "evalue": "division by zero",
     "output_type": "error",
     "traceback": [
      "\u001b[0;31m---------------------------------------------------------------------------\u001b[0m",
      "\u001b[0;31mZeroDivisionError\u001b[0m                         Traceback (most recent call last)",
      "\u001b[0;32m<ipython-input-4-106d481e0231>\u001b[0m in \u001b[0;36m<module>\u001b[0;34m\u001b[0m\n\u001b[0;32m----> 1\u001b[0;31m \u001b[0mfancy_divide\u001b[0m\u001b[0;34m(\u001b[0m\u001b[0;34m[\u001b[0m\u001b[0;36m0\u001b[0m\u001b[0;34m,\u001b[0m \u001b[0;36m2\u001b[0m\u001b[0;34m,\u001b[0m \u001b[0;36m4\u001b[0m\u001b[0;34m]\u001b[0m\u001b[0;34m,\u001b[0m \u001b[0;36m0\u001b[0m\u001b[0;34m)\u001b[0m\u001b[0;34m\u001b[0m\u001b[0;34m\u001b[0m\u001b[0m\n\u001b[0m",
      "\u001b[0;32m<ipython-input-1-3ebd0fcf9bf3>\u001b[0m in \u001b[0;36mfancy_divide\u001b[0;34m(numbers, index)\u001b[0m\n\u001b[1;32m      3\u001b[0m         \u001b[0mdenom\u001b[0m \u001b[0;34m=\u001b[0m \u001b[0mnumbers\u001b[0m\u001b[0;34m[\u001b[0m\u001b[0mindex\u001b[0m\u001b[0;34m]\u001b[0m\u001b[0;34m\u001b[0m\u001b[0;34m\u001b[0m\u001b[0m\n\u001b[1;32m      4\u001b[0m         \u001b[0;32mfor\u001b[0m \u001b[0mi\u001b[0m \u001b[0;32min\u001b[0m \u001b[0mrange\u001b[0m\u001b[0;34m(\u001b[0m\u001b[0mlen\u001b[0m\u001b[0;34m(\u001b[0m\u001b[0mnumbers\u001b[0m\u001b[0;34m)\u001b[0m\u001b[0;34m)\u001b[0m\u001b[0;34m:\u001b[0m\u001b[0;34m\u001b[0m\u001b[0;34m\u001b[0m\u001b[0m\n\u001b[0;32m----> 5\u001b[0;31m             \u001b[0mnumbers\u001b[0m\u001b[0;34m[\u001b[0m\u001b[0mi\u001b[0m\u001b[0;34m]\u001b[0m \u001b[0;34m/=\u001b[0m \u001b[0mdenom\u001b[0m\u001b[0;34m\u001b[0m\u001b[0;34m\u001b[0m\u001b[0m\n\u001b[0m\u001b[1;32m      6\u001b[0m     \u001b[0;32mexcept\u001b[0m \u001b[0mIndexError\u001b[0m\u001b[0;34m:\u001b[0m\u001b[0;34m\u001b[0m\u001b[0;34m\u001b[0m\u001b[0m\n\u001b[1;32m      7\u001b[0m         \u001b[0mprint\u001b[0m\u001b[0;34m(\u001b[0m\u001b[0;34m\"-1\"\u001b[0m\u001b[0;34m)\u001b[0m\u001b[0;34m\u001b[0m\u001b[0;34m\u001b[0m\u001b[0m\n",
      "\u001b[0;31mZeroDivisionError\u001b[0m: division by zero"
     ]
    }
   ],
   "source": [
    "fancy_divide([0, 2, 4], 0)"
   ]
  },
  {
   "cell_type": "code",
   "execution_count": 14,
   "metadata": {},
   "outputs": [],
   "source": [
    "def fancy_divide(numbers, index):\n",
    "    try:\n",
    "        denom = numbers[index]\n",
    "        print (denom)\n",
    "        for i in range(len(numbers)):\n",
    "            numbers[i] /= denom\n",
    "            print(numbers[i])\n",
    "    except IndexError:\n",
    "        fancy_divide(numbers, len(numbers) - 1)\n",
    "    except ZeroDivisionError:\n",
    "        print(\"-2\")\n",
    "    else:\n",
    "        print(\"1\")\n",
    "    finally:\n",
    "        print(\"0\")"
   ]
  },
  {
   "cell_type": "code",
   "execution_count": 15,
   "metadata": {},
   "outputs": [
    {
     "name": "stdout",
     "output_type": "stream",
     "text": [
      "2\n",
      "0.0\n",
      "1.0\n",
      "2.0\n",
      "1\n",
      "0\n"
     ]
    }
   ],
   "source": [
    "fancy_divide([0, 2, 4], 1)"
   ]
  },
  {
   "cell_type": "code",
   "execution_count": 16,
   "metadata": {},
   "outputs": [
    {
     "name": "stdout",
     "output_type": "stream",
     "text": [
      "4\n",
      "0.0\n",
      "0.5\n",
      "1.0\n",
      "1\n",
      "0\n",
      "0\n"
     ]
    }
   ],
   "source": [
    "fancy_divide([0, 2, 4], 4)"
   ]
  },
  {
   "cell_type": "code",
   "execution_count": 17,
   "metadata": {},
   "outputs": [
    {
     "name": "stdout",
     "output_type": "stream",
     "text": [
      "0\n",
      "-2\n",
      "0\n"
     ]
    }
   ],
   "source": [
    "fancy_divide([0, 2, 4], 0)"
   ]
  },
  {
   "cell_type": "code",
   "execution_count": 18,
   "metadata": {},
   "outputs": [],
   "source": [
    "def fancy_divide(numbers, index):\n",
    "    try:\n",
    "        try:\n",
    "            denom = numbers[index]\n",
    "            print(denom)\n",
    "            for i in range(len(numbers)):\n",
    "                numbers[i] /= denom\n",
    "            print(numbers)\n",
    "        except IndexError:\n",
    "            fancy_divide(numbers, len(numbers) - 1)\n",
    "        else:\n",
    "            print(\"1\")\n",
    "        finally:\n",
    "            print(\"0\")\n",
    "    except ZeroDivisionError:\n",
    "        print(\"-2\")\n",
    "        "
   ]
  },
  {
   "cell_type": "code",
   "execution_count": 19,
   "metadata": {},
   "outputs": [
    {
     "name": "stdout",
     "output_type": "stream",
     "text": [
      "2\n",
      "[0.0, 1.0, 2.0]\n",
      "1\n",
      "0\n"
     ]
    }
   ],
   "source": [
    "fancy_divide([0, 2, 4], 1)"
   ]
  },
  {
   "cell_type": "code",
   "execution_count": 20,
   "metadata": {},
   "outputs": [
    {
     "name": "stdout",
     "output_type": "stream",
     "text": [
      "4\n",
      "[0.0, 0.5, 1.0]\n",
      "1\n",
      "0\n",
      "0\n"
     ]
    }
   ],
   "source": [
    "fancy_divide([0, 2, 4], 4)"
   ]
  },
  {
   "cell_type": "code",
   "execution_count": 21,
   "metadata": {},
   "outputs": [
    {
     "name": "stdout",
     "output_type": "stream",
     "text": [
      "0\n",
      "0\n",
      "-2\n"
     ]
    }
   ],
   "source": [
    "fancy_divide([0, 2, 4], 0)"
   ]
  },
  {
   "cell_type": "code",
   "execution_count": 22,
   "metadata": {},
   "outputs": [],
   "source": [
    "def fancy_divide(list_of_numbers, index):\n",
    "    try:\n",
    "        try:\n",
    "            raise Exception(\"0\")\n",
    "        finally:\n",
    "            denom = list_of_numbers[index]\n",
    "            for i in range(len(list_of_numbers)):\n",
    "                list_of_numbers[i] /= denom\n",
    "    except Exception as ex:\n",
    "        print(ex)"
   ]
  },
  {
   "cell_type": "code",
   "execution_count": 25,
   "metadata": {},
   "outputs": [
    {
     "name": "stdout",
     "output_type": "stream",
     "text": [
      "0\n"
     ]
    }
   ],
   "source": [
    "fancy_divide([0, 2, 4], 0)"
   ]
  },
  {
   "cell_type": "code",
   "execution_count": 24,
   "metadata": {},
   "outputs": [],
   "source": [
    "def fancy_divide(list_of_numbers, index):\n",
    "    try:\n",
    "        try:\n",
    "            denom = list_of_numbers[index]\n",
    "            for i in range(len(list_of_numbers)):\n",
    "                list_of_numbers[i] /= denom\n",
    "        finally:\n",
    "            raise Exception(\"0\")\n",
    "    except Exception as ex:\n",
    "        print(ex)"
   ]
  },
  {
   "cell_type": "markdown",
   "metadata": {},
   "source": [
    "## simple divide\n",
    "\n",
    "```\n",
    "def fancy_divide(list_of_numbers, index):\n",
    "   denom = list_of_numbers[index]\n",
    "   return [simple_divide(item, denom) for item in list_of_numbers]\n",
    "\n",
    "\n",
    "def simple_divide(item, denom):\n",
    "   return item / denom\n",
    "```\n"
   ]
  },
  {
   "cell_type": "code",
   "execution_count": null,
   "metadata": {},
   "outputs": [],
   "source": []
  }
 ],
 "metadata": {
  "kernelspec": {
   "display_name": "Python 3",
   "language": "python",
   "name": "python3"
  },
  "language_info": {
   "codemirror_mode": {
    "name": "ipython",
    "version": 3
   },
   "file_extension": ".py",
   "mimetype": "text/x-python",
   "name": "python",
   "nbconvert_exporter": "python",
   "pygments_lexer": "ipython3",
   "version": "3.6.9"
  }
 },
 "nbformat": 4,
 "nbformat_minor": 4
}
