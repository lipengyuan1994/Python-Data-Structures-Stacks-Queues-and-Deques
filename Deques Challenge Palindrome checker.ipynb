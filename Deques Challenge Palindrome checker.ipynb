{
 "cells": [
  {
   "cell_type": "markdown",
   "metadata": {},
   "source": [
    "* Let's practice some problem-solving using the deque data structure. The prompt for this challenge is to use a deque data structure and write a function that takes in an input string. \n",
    "* The function should return true if the string is a palindrome or false if the string is not a palindrome. \n",
    "* As a reminder, a palindrome is a word that is spelled the same backwards and forwards. \n",
    "* Some examples would be mom, level, and kayak. So give this a try, and I'll come back and show you how I approached it."
   ]
  },
  {
   "cell_type": "markdown",
   "metadata": {},
   "source": [
    "* While there are of course many approaches you could've taken to solving this problem, I'll share with you what I decided to do. I knew that I would have to loop through the input string and add all of the characters to the rear of the deck to get them into the deck. I chose to add each item to the rear of the deck because adding an item to the rear of the deck is a constant time operation. As long as the deck's size is greater than two, I would remove the front-most item and the rear-most item from the deck, and store each of those in their own variables.\n",
    "* If those two variables aren't equivalent, I would return false right away. If the two variables are equivalent though, then I could proceed to the next pair of items. If the size of the deck eventually gets to be smaller than two, meaning there's only one or zero characters left in the deck, then I know the string is a palindrome, and I can return true. Now let's talk through how I implemented this in code."
   ]
  },
  {
   "cell_type": "code",
   "execution_count": 1,
   "metadata": {},
   "outputs": [],
   "source": [
    "class Deque:\n",
    "\n",
    "    def __init__(self):\n",
    "        self.items = []\n",
    "\n",
    "    def add_front(self, item):\n",
    "        self.items.insert(0, item)\n",
    "\n",
    "    def add_rear(self, item):\n",
    "        self.items.append(item)\n",
    "\n",
    "    def remove_front(self):\n",
    "        return self.items.pop(0)\n",
    "\n",
    "    def remove_rear(self):\n",
    "        return self.items.pop()\n",
    "\n",
    "    def size(self):\n",
    "        return len(self.items)\n",
    "\n",
    "\n",
    "def check_palindrome(input_str):\n",
    "\n",
    "    my_d = Deque()\n",
    "    for char in input_str: # add char in the rear of the deque\n",
    "        my_d.add_rear(char)\n",
    "\n",
    "    while my_d.size() >= 2:  # Size of 1 or 0 means the string is a palindrome\n",
    "        front_item = my_d.remove_front()\n",
    "        rear_item = my_d.remove_rear()\n",
    "\n",
    "        if front_item != rear_item:\n",
    "            return False\n",
    "\n",
    "    return True\n",
    "\n",
    "\n",
    "\n"
   ]
  },
  {
   "cell_type": "code",
   "execution_count": 2,
   "metadata": {},
   "outputs": [
    {
     "name": "stdout",
     "output_type": "stream",
     "text": [
      "True\n",
      "False\n"
     ]
    }
   ],
   "source": [
    "print(check_palindrome('racecar'))\n",
    "print(check_palindrome('oranges'))"
   ]
  },
  {
   "cell_type": "code",
   "execution_count": null,
   "metadata": {},
   "outputs": [],
   "source": []
  }
 ],
 "metadata": {
  "kernelspec": {
   "display_name": "Python 3",
   "language": "python",
   "name": "python3"
  },
  "language_info": {
   "codemirror_mode": {
    "name": "ipython",
    "version": 3
   },
   "file_extension": ".py",
   "mimetype": "text/x-python",
   "name": "python",
   "nbconvert_exporter": "python",
   "pygments_lexer": "ipython3",
   "version": "3.6.6"
  }
 },
 "nbformat": 4,
 "nbformat_minor": 2
}
