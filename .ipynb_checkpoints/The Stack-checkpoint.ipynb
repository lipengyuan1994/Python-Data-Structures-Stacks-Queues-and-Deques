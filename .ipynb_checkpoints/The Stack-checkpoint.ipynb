{
 "cells": [
  {
   "cell_type": "markdown",
   "metadata": {},
   "source": [
    "# Stacks as a linear abstract data type \n"
   ]
  },
  {
   "cell_type": "markdown",
   "metadata": {},
   "source": [
    "* Now that we understand the difference between abstract data types and data structures, let's talk through what makes the stack abstract data type unique and also touch on the basic functionality we need a stack to have. Here's a high level definition of a stack. It holds a collection of items and the order in which they were added, and you can only add items to and remove items from the top of a stack. If you think of a stack as a stack of pancakes, you can only add to the top of the pancake stack and remove from the top of the pancake stack. We say this is last-in first-out because the most recent item you add is the one that's going to get removed next.\n",
    "* Another way you may hear this phrased is LIFO. It follows from this example that the order in which pancakes were added to the stack is preserved. In other words, you can't take the bottom pancake without considerable effort and a potential mess. When it comes to implementing a stack, our first consideration is whether or not Python has a built-in data type that we could use behind the scenes. We need a mutable data type that holds an ordered collection of items. A list fits this requirement perfectly.\n",
    "* So that's great. Python has a built-in data type we can use behind the scenes. The basic functionality for a stack is getting items into and out of the list we use to represent that linear data structure. When we code our stack class, we're going to use the right side of a list to represent the top of a stack. You can also think about this location as the end of the list. The reason we choose the end of the list has to do with run time.\n",
    "* Removing the last item of a list is done in constant time. So is appending an item to the end of the list. We may also want to know whether or not a stack is empty, how many items are in it, or which item is at the top. We'll create a method for each of those capabilities later on. We talked about some operations we'll need to be able to make on a stack. In terms of the data the stack will hold, it can be any data type that can be stored in a list. Further, the stack is what's called a limited access data structure.\n",
    "* This is because we can only access data from one place, the end of the list. A couple examples in which stacks could be used in your everyday life are a linter in your text editor which is able to tell you if you're missing an opening or closing symbol, or reversing the characters in a string which is a common interview question. A final note about stacks is that they have a unique property about them. And that is that they are also recursive data structures. A stack is either empty or it consists of a top item and the rest of which is a stack.\n",
    "* We won't discuss recursion in this course but knowing that a stack is a recursive data structure may come in handy in an interview."
   ]
  },
  {
   "cell_type": "markdown",
   "metadata": {},
   "source": [
    "# Creating the stack class and its methods\n"
   ]
  },
  {
   "cell_type": "markdown",
   "metadata": {},
   "source": [
    "* Now that we've discussed the stack abstract data type, we know what we want the stack to do, and we can start to stub out a stack class and its methods. First, we need to define the class itself. So let's call it Stack. We talked about how we need to use a Python list behind the scenes to represent the stack. So we can create an init method to do that. And we'll create a variable called self.items, and initialize that to our empty list.\n",
    "* The other basic functionality we need is we need to be able to add an item to the stack. The word we use for that is push. And we'll also need to pass into push the item that we want to add to the stack. Since we're just stemming things out now, we'll use the pass keyword to remind ourselves to come back to that later. Just like we added, we also need to be able to remove an item from the stack and we use the word pop for that. Now, because the list's built in pop method always returns the last item of the list anyway, we don't need to specify an index or an item that we want to remove.\n",
    "* That will take care of that automatically for us. Building on top of these two basic things, there are three other things we probably want to be able to do. The first is we'll want to peek perhaps at what the next item is that's going to be removed. We may want to know how many items are in the stack, and the word we use for that is size. And lastly, we may want to know whether or not the stack is empty.\n",
    "* So, we have stubbed out all of the methods for our stack class, and we'll start filling them in."
   ]
  },
  {
   "cell_type": "code",
   "execution_count": 1,
   "metadata": {},
   "outputs": [],
   "source": [
    "class Stack:\n",
    "\n",
    "    def __init__(self):\n",
    "        self.items = []\n",
    "\n",
    "    def push(self, item):\n",
    "        pass\n",
    "\n",
    "    def pop(self):\n",
    "        pass\n",
    "\n",
    "    def peek(self):\n",
    "        pass\n",
    "\n",
    "    def size(self):\n",
    "        pass\n",
    "\n",
    "    def is_empty(self):\n",
    "        pass"
   ]
  },
  {
   "cell_type": "markdown",
   "metadata": {},
   "source": [
    "# push()\n"
   ]
  },
  {
   "cell_type": "markdown",
   "metadata": {},
   "source": [
    "* The first method we can flush out is this push method and this is the method that's going to allow us to add an item onto the stack. We've already specified the item here and so now we just need to append that to the list that we've created above. So we'll just say self dot items dot append and we'll pass in the item that we want to add. Now since this is a learning exercise, I do think it's a good idea that we add doc strings to each of these methods.\n",
    "* So I'm just going to write a brief note about what this method does. So I'll say, it accepts an item as a parameter, and appends it to the end of our list. And it returns nothing. Now we talked earlier about how appending to the end of a list happens in constant time. So let's make a note about the run time as well and the reason I think it's important to do this is data structures are often covered in interviews and typically, your interviewer will ask you about the run time.\n",
    "* So I'm just going to say that the run time for this method **is 0(1), or constant time**, because appending to the end of a list happens in constant time. And the reason this is constant time is what's actually happening is python is going directly to the last item of the list. It's indexing to the last item and indexing into a list. As you may know, happens in constant time.\n",
    "* So there we go. To test to make sure that my new push method actually works, we can run that python file interactively in the terminal. I'm using python3 and the way that I can run that is like this. And so, now all of the code that I just wrote is available in my terminal. So I can create my own stack object and, at this point the only method that we have is the push method.\n",
    "* So I can try that out by passing in apple, a string containing the word apple. Now remember that the variable that we're using here is items. So I can go back to the terminal, type in my stack dot items, and that will show me now what is in my list. If we add another item, let's say, banana. So we'll do my stack dot push and we'll pass in a string containing the word banana.\n",
    "* I expect that banana will appear to the right of apple. Let's see if that's correct. It is, and the reason this is the case is because we always consider the right side of the list to be the top of the stack and we can only add to and remove from the top so every time we add something else it's always going to show up on the right most side of that list.\n",
    "* We'll do my stack dot items again to check and there we go."
   ]
  },
  {
   "cell_type": "code",
   "execution_count": 2,
   "metadata": {},
   "outputs": [],
   "source": [
    "class Stack:\n",
    "\n",
    "    def __init__(self):\n",
    "        self.items = []\n",
    "\n",
    "    def push(self, item):\n",
    "        \"\"\"Accepts an item as a parameter and appends it to the end of the list.\n",
    "        Returns nothing.\n",
    "\n",
    "        The runtime for this method is O(1), or constant time, because appending\n",
    "        to the end of a list happens in constant time.\n",
    "        \"\"\"\n",
    "\n",
    "        self.items.append(item)\n",
    "\n",
    "    def pop(self):\n",
    "        pass\n",
    "\n",
    "    def peek(self):\n",
    "        pass\n",
    "\n",
    "    def size(self):\n",
    "        pass\n",
    "\n",
    "    def is_empty(self):\n",
    "        pass"
   ]
  },
  {
   "cell_type": "code",
   "execution_count": 6,
   "metadata": {},
   "outputs": [],
   "source": [
    "my_stack = Stack()"
   ]
  },
  {
   "cell_type": "code",
   "execution_count": 7,
   "metadata": {},
   "outputs": [
    {
     "data": {
      "text/plain": [
       "['apple']"
      ]
     },
     "execution_count": 7,
     "metadata": {},
     "output_type": "execute_result"
    }
   ],
   "source": [
    "my_stack.push('apple')\n",
    "my_stack.items"
   ]
  },
  {
   "cell_type": "code",
   "execution_count": 8,
   "metadata": {},
   "outputs": [
    {
     "data": {
      "text/plain": [
       "['apple', 'banana']"
      ]
     },
     "execution_count": 8,
     "metadata": {},
     "output_type": "execute_result"
    }
   ],
   "source": [
    "my_stack.push('banana')\n",
    "my_stack.items"
   ]
  },
  {
   "cell_type": "markdown",
   "metadata": {},
   "source": [
    "# pop()"
   ]
  },
  {
   "cell_type": "markdown",
   "metadata": {},
   "source": [
    "* The second method we can work on is our Pop Method. And this is the method that's going to allow us to **remove an item from the top of the stack**. Now, we know already that the list data type has a built in Pop Method. So, we're just going to make use of that. So, we will return whatever value is given to us by self.items.pop. Now, we don't have to specify an index here, because we always are going to be wanting it to return us the last item from the list.\n",
    "* That's how the Pop Method works. If you don't give it any parameters, it will always return the last method. That's pretty much it. Let's add another doc string, as we did for Push. So, what does this method do? This method returns the last item. We should say, removes and returns the last item from the list, which is also the top item of the stack.\n",
    "* And just as we did before, we should talk about the run time here, as well. And the run time is also constant time, just as it was for Push. Because really, all we're doing is, we are indexing to that last item in the list and then returning it. So, all it does is index to the last item of the list. Let's go ahead and test this out in the terminal.\n",
    "* I will again run Python 3 interactively, and I will create my own stack object. Now, at this point we have two methods. We have Push and Pop. And I want to try the Pop Method without having pushed anything first, to see what's going to happen. So, I'll just do my_stack.pop and I'm kind of expecting an error to happen here. And that's what happens.\n",
    "* The index error is that I'm trying to Pop from an empty list, or in other words, I'm trying to remove something from a list that doesn't have anything in it. Now, what this tells me is, this is an opportunity to go back into my code and create a condition to look for this. Let's add in that condition statement here. So, what I want to say is, as long as there are items in the list, give me the last item. To do that Pythonically, I can say, if self.items, and this basically means if there is something in self.items, return the popped value.\n",
    "* Otherwise, we may want to just return none. So, I'm going to save this. We'll go back to our terminal. I'll have to restart my interpreter, but that's okay. I'll do python3 -i and then the name of my file. Okay, so, we'll recreate our stack object. And now, let's try calling that Pop Method again. Cool, this worked. It basically returned none. So, now that we've accounted for that scenario, let's push an item.\n",
    "* We'll push apple to be consistent with our example. And I also want to push banana. And now, when I call my_stack.pop, what I should be getting is banana, because remember in our code we said, not only remove that last value, but return it, as well. And so, that's why it shows up there in my terminal. If we look at the items attribute again, we should only see apple now, because banana should have been removed entirely.\n",
    "* And that's what we get."
   ]
  },
  {
   "cell_type": "code",
   "execution_count": 9,
   "metadata": {},
   "outputs": [],
   "source": [
    "class Stack:\n",
    "\n",
    "    def __init__(self):\n",
    "        self.items = []\n",
    "\n",
    "    def push(self, item):\n",
    "        \"\"\"Accepts an item as a parameter and appends it to the end of the list.\n",
    "        Returns nothing.\n",
    "\n",
    "        The runtime for this method is O(1), or constant time, because appending\n",
    "        to the end of a list happens in constant time.\n",
    "        \"\"\"\n",
    "\n",
    "        self.items.append(item)\n",
    "\n",
    "    def pop(self):\n",
    "        \"\"\"Removes and returns the last item for the list, which is also the\n",
    "        top item of the Stack.\n",
    "\n",
    "        The runtime here is constant time, because all it does is index to the\n",
    "        last item of the list.\n",
    "        \"\"\"\n",
    "        if self.items:\n",
    "            return self.items.pop()\n",
    "\n",
    "        return None\n",
    "\n",
    "    def peek(self):\n",
    "        pass\n",
    "\n",
    "    def size(self):\n",
    "        pass\n",
    "\n",
    "    def is_empty(self):\n",
    "        pass"
   ]
  },
  {
   "cell_type": "code",
   "execution_count": 10,
   "metadata": {},
   "outputs": [],
   "source": [
    "my_stack = Stack()"
   ]
  },
  {
   "cell_type": "code",
   "execution_count": 13,
   "metadata": {},
   "outputs": [
    {
     "name": "stdout",
     "output_type": "stream",
     "text": [
      "None\n"
     ]
    }
   ],
   "source": [
    "print(my_stack.pop())"
   ]
  },
  {
   "cell_type": "code",
   "execution_count": 14,
   "metadata": {},
   "outputs": [],
   "source": [
    "my_stack = Stack()"
   ]
  },
  {
   "cell_type": "code",
   "execution_count": 15,
   "metadata": {},
   "outputs": [],
   "source": [
    "my_stack.push('apple')\n",
    "my_stack.push('banana')"
   ]
  },
  {
   "cell_type": "code",
   "execution_count": 16,
   "metadata": {},
   "outputs": [
    {
     "data": {
      "text/plain": [
       "'banana'"
      ]
     },
     "execution_count": 16,
     "metadata": {},
     "output_type": "execute_result"
    }
   ],
   "source": [
    "my_stack.pop()"
   ]
  },
  {
   "cell_type": "code",
   "execution_count": 17,
   "metadata": {},
   "outputs": [
    {
     "data": {
      "text/plain": [
       "['apple']"
      ]
     },
     "execution_count": 17,
     "metadata": {},
     "output_type": "execute_result"
    }
   ],
   "source": [
    "my_stack.items"
   ]
  },
  {
   "cell_type": "markdown",
   "metadata": {},
   "source": [
    "# peek()\n"
   ]
  },
  {
   "cell_type": "markdown",
   "metadata": {},
   "source": [
    "* We now have the basic functionality for our stack class because we have coded the push and pop methods. So let's move on to these other three extra methods if you will. The next one is called **peek**. And what this is going to do is show us **what the next value is that's ready to be popped**. So in other words, this should show us the item that's on the top of the stack. We want to return that item as well. So all we need to do here is we just need to return whatever value or whatever item is in the last index of the list.\n",
    "* So that would be self.items and then we can index into the negative first position. So I'm going to save this and we'll go back to the terminal here, fire up the interpreter. I'm going to create another stack object and I'll just push one thing onto it this time. Going to stick with our apple example. So now if I call peek I expect it to show us apple.\n",
    "* And it does. But what would happen if I tried to call peek on an empty stack? We can test that out ourselves. So I'm going to pop off apple. I can double check that my stack is empty now. And it is. So if I call my_stack.peek, at this point I get an error. The reason I get an error is because I'm trying to index into the last item of a list but the list doesn't have anything in it.\n",
    "* So let's add a condition for that into our code here. It'll be pretty similar to the condition that we used in our pop method. I want to say, as long as there are items in that list, so if self.items, then return the last item in the list. Otherwise, just return none. So I'll save. Let's try this one more time. Forgot to re-run my interpreter here.\n",
    "* There we go. So my stack equals and we don't have to add anything this time, right, cause we just want to test what happens to our peek method on an empty list. We should get nothing. And that's what happens. Cool. So let's go back to our code and we'll add in the dock string and a note about the run time as we have been. Alright, so this method returns the last item in the list which is also the item at the top of the stack.\n",
    "* Clean up my capitalization here. Here we go. And let's make a note about the run time. So again since all we're really doing is indexing into a list and we know that indexing into a list is done in constant time, that's the only thing we need to say here. So this method runs in constant time because indexing into a list is done in constant time."
   ]
  },
  {
   "cell_type": "code",
   "execution_count": 18,
   "metadata": {},
   "outputs": [],
   "source": [
    "class Stack:\n",
    "\n",
    "    def __init__(self):\n",
    "        self.items = []\n",
    "\n",
    "    def push(self, item):\n",
    "        \"\"\"Accepts an item as a parameter and appends it to the end of the list.\n",
    "        Returns nothing.\n",
    "\n",
    "        The runtime for this method is O(1), or constant time, because appending\n",
    "        to the end of a list happens in constant time.\n",
    "        \"\"\"\n",
    "\n",
    "        self.items.append(item)\n",
    "\n",
    "    def pop(self):\n",
    "        \"\"\"Removes and returns the last item for the list, which is also the\n",
    "        top item of the Stack.\n",
    "\n",
    "        The runtime here is constant time, because all it does is index to the\n",
    "        last item of the list.\n",
    "        \"\"\"\n",
    "        if self.items:\n",
    "            return self.items.pop()\n",
    "\n",
    "        return None\n",
    "\n",
    "    def peek(self):\n",
    "        \"\"\"This method returns the last item in the list, which is also the item\n",
    "        at the top of the Stack.\n",
    "\n",
    "        This method runs in constant time because indexing into a list is done\n",
    "        in constant time.\"\"\"\n",
    "\n",
    "\n",
    "        if self.items:\n",
    "            return self.items[-1]\n",
    "        return None\n",
    "\n",
    "    def size(self):\n",
    "        pass\n",
    "\n",
    "    def is_empty(self):\n",
    "        pass"
   ]
  },
  {
   "cell_type": "code",
   "execution_count": 19,
   "metadata": {},
   "outputs": [
    {
     "data": {
      "text/plain": [
       "'apple'"
      ]
     },
     "execution_count": 19,
     "metadata": {},
     "output_type": "execute_result"
    }
   ],
   "source": [
    "my_stack  =Stack()\n",
    "my_stack.push('apple')\n",
    "my_stack.peek()"
   ]
  },
  {
   "cell_type": "code",
   "execution_count": 20,
   "metadata": {},
   "outputs": [
    {
     "data": {
      "text/plain": [
       "'apple'"
      ]
     },
     "execution_count": 20,
     "metadata": {},
     "output_type": "execute_result"
    }
   ],
   "source": [
    "my_stack.pop()"
   ]
  },
  {
   "cell_type": "code",
   "execution_count": 21,
   "metadata": {},
   "outputs": [
    {
     "data": {
      "text/plain": [
       "[]"
      ]
     },
     "execution_count": 21,
     "metadata": {},
     "output_type": "execute_result"
    }
   ],
   "source": [
    "my_stack.items"
   ]
  },
  {
   "cell_type": "code",
   "execution_count": 23,
   "metadata": {},
   "outputs": [
    {
     "name": "stdout",
     "output_type": "stream",
     "text": [
      "None\n"
     ]
    }
   ],
   "source": [
    "print( my_stack.peek())"
   ]
  },
  {
   "cell_type": "markdown",
   "metadata": {},
   "source": [
    "# size()"
   ]
  },
  {
   "cell_type": "markdown",
   "metadata": {},
   "source": [
    "* Since we're representing our stack with a list, in order to figure out how many items are in the stack, all we need to do is use the list's built-in length method to find the length of the underlying list. So, we'll come into our size method here and really all I need to do is just return the result of calling that length method. So, we'll do, basically, find the length of self.items. I'll save this, and then go back to my terminal and run the file, interactively, of course. And here, I am going to create my own stack object and before I add anything to it, I want to check my size method, make sure I've coded it properly.\n",
    "* So, we'll do my_stack.size, and I expect to get zero. Yep, that's what I get. So now, let's push something onto the stack. We'll do apple again. Okay, and if I call the size method again, I expect that it would return one. And that's what I get. So, let's go back to the code here and we'll add our doc string and runtime note, as we have been.\n",
    "* So, what does this method do? This method returns the length of the list that is representing the stack. All right, now let's talk about the runtime. So, the runtime of finding the length of a list is constant time. And therefore, this method is also going to be running in constant time. So, we'll say, in summary, this method runs in constant time because finding the length of a list also happens in constant time."
   ]
  },
  {
   "cell_type": "code",
   "execution_count": 24,
   "metadata": {},
   "outputs": [],
   "source": [
    "class Stack:\n",
    "\n",
    "    def __init__(self):\n",
    "        self.items = []\n",
    "\n",
    "    def push(self, item):\n",
    "        \"\"\"Accepts an item as a parameter and appends it to the end of the list.\n",
    "        Returns nothing.\n",
    "\n",
    "        The runtime for this method is O(1), or constant time, because appending\n",
    "        to the end of a list happens in constant time.\n",
    "        \"\"\"\n",
    "\n",
    "        self.items.append(item)\n",
    "\n",
    "    def pop(self):\n",
    "        \"\"\"Removes and returns the last item for the list, which is also the\n",
    "        top item of the Stack.\n",
    "\n",
    "        The runtime here is constant time, because all it does is index to the\n",
    "        last item of the list.\n",
    "        \"\"\"\n",
    "        if self.items:\n",
    "            return self.items.pop()\n",
    "\n",
    "        return None\n",
    "\n",
    "    def peek(self):\n",
    "        \"\"\"This method returns the last item in the list, which is also the item\n",
    "        at the top of the Stack.\n",
    "\n",
    "        This method runs in constant time because indexing into a list is done\n",
    "        in constant time.\"\"\"\n",
    "\n",
    "\n",
    "        if self.items:\n",
    "            return self.items[-1]\n",
    "        return None\n",
    "\n",
    "    def size(self):\n",
    "        \"\"\"This method returns the length of the list that is representing the\n",
    "        Stack.\n",
    "\n",
    "        This method runs in constant time because finding the length of a list\n",
    "        also in constant time.\n",
    "        \"\"\"\n",
    "\n",
    "        return len(self.items)\n",
    "\n",
    "    def is_empty(self):\n",
    "        pass"
   ]
  },
  {
   "cell_type": "code",
   "execution_count": 26,
   "metadata": {},
   "outputs": [
    {
     "name": "stdout",
     "output_type": "stream",
     "text": [
      "None\n"
     ]
    }
   ],
   "source": [
    "print(my_stack.size())"
   ]
  },
  {
   "cell_type": "code",
   "execution_count": 35,
   "metadata": {},
   "outputs": [
    {
     "data": {
      "text/plain": [
       "['apple']"
      ]
     },
     "execution_count": 35,
     "metadata": {},
     "output_type": "execute_result"
    }
   ],
   "source": [
    "my_stack = Stack()\n",
    "my_stack.push('apple')\n",
    "my_stack.items"
   ]
  },
  {
   "cell_type": "code",
   "execution_count": 36,
   "metadata": {},
   "outputs": [
    {
     "data": {
      "text/plain": [
       "1"
      ]
     },
     "execution_count": 36,
     "metadata": {},
     "output_type": "execute_result"
    }
   ],
   "source": [
    "my_stack.size()"
   ]
  },
  {
   "cell_type": "markdown",
   "metadata": {},
   "source": [
    "# is_empty()\n"
   ]
  },
  {
   "cell_type": "markdown",
   "metadata": {},
   "source": [
    "* The last method we'll add to our stack class is the is empty method. This should return a Boolean value describing whether or not the stack is empty. To do this, all you need to do is test for a quality between our stack instance which is represented as a list and an empty list. So, in code that looks like return self dot items double equals empty list. If our list is equivalent to an empty list, that would return true, but if our list is not equivalent to an empty list, that would return false.\n",
    "* So I'm going to save our file and we'll go back to the terminal. I'll fire up the interpreter here. Create our stack object, and let's get right to testing this new is empty method. Now the first time we run this after having created our stack object, we expect that the is empty method would return true, which it does. So let's now push a string with apple in it on to our stack.\n",
    "* We can double check that here. My, whoops, typo, my stack dot items. A list with only apple in it which is what we expect, and now if we do my stack dot is empty, we should get false. Yep, that's exactly what we get, great. So let's go back to our code file and add the doc string and runtime note, and this method simply returns a Boolean value describing whether or not the stack is empty.\n",
    "* So this method returns a Boolean value describing whether or not the stack is empty. And such a simple test of equality like this does happen in constant time like all of our other methods, and so we'll make a note to that effect. Testing for equality happens in constant time. There we go."
   ]
  },
  {
   "cell_type": "code",
   "execution_count": 37,
   "metadata": {},
   "outputs": [],
   "source": [
    "class Stack:\n",
    "\n",
    "    def __init__(self):\n",
    "        self.items = []\n",
    "\n",
    "    def push(self, item):\n",
    "        \"\"\"Accepts an item as a parameter and appends it to the end of the list.\n",
    "        Returns nothing.\n",
    "\n",
    "        The runtime for this method is O(1), or constant time, because appending\n",
    "        to the end of a list happens in constant time.\n",
    "        \"\"\"\n",
    "\n",
    "        self.items.append(item)\n",
    "\n",
    "    def pop(self):\n",
    "        \"\"\"Removes and returns the last item for the list, which is also the\n",
    "        top item of the Stack.\n",
    "\n",
    "        The runtime here is constant time, because all it does is index to the\n",
    "        last item of the list.\n",
    "        \"\"\"\n",
    "        if self.items:\n",
    "            return self.items.pop()\n",
    "\n",
    "        return None\n",
    "\n",
    "    def peek(self):\n",
    "        \"\"\"This method returns the last item in the list, which is also the item\n",
    "        at the top of the Stack.\n",
    "\n",
    "        This method runs in constant time because indexing into a list is done\n",
    "        in constant time.\"\"\"\n",
    "\n",
    "\n",
    "        if self.items:\n",
    "            return self.items[-1]\n",
    "        return None\n",
    "\n",
    "    def size(self):\n",
    "        \"\"\"This method returns the length of the list that is representing the\n",
    "        Stack.\n",
    "\n",
    "        This method runs in constant time because finding the length of a list\n",
    "        also in constant time.\n",
    "        \"\"\"\n",
    "\n",
    "        return len(self.items)\n",
    "\n",
    "    def is_empty(self):\n",
    "        \"\"\"This method returns a Boolean value describing whether or not the\n",
    "        Stack is empty.\n",
    "\n",
    "        Testing for equality happens in constant time.\n",
    "        \"\"\"\n",
    "\n",
    "        return self.items == []\n"
   ]
  },
  {
   "cell_type": "code",
   "execution_count": 38,
   "metadata": {},
   "outputs": [
    {
     "data": {
      "text/plain": [
       "True"
      ]
     },
     "execution_count": 38,
     "metadata": {},
     "output_type": "execute_result"
    }
   ],
   "source": [
    "my_stack = Stack()\n",
    "my_stack.is_empty()"
   ]
  },
  {
   "cell_type": "code",
   "execution_count": 39,
   "metadata": {},
   "outputs": [
    {
     "data": {
      "text/plain": [
       "['apple']"
      ]
     },
     "execution_count": 39,
     "metadata": {},
     "output_type": "execute_result"
    }
   ],
   "source": [
    "my_stack.push('apple')\n",
    "my_stack.items"
   ]
  },
  {
   "cell_type": "code",
   "execution_count": 40,
   "metadata": {},
   "outputs": [
    {
     "data": {
      "text/plain": [
       "False"
      ]
     },
     "execution_count": 40,
     "metadata": {},
     "output_type": "execute_result"
    }
   ],
   "source": [
    "my_stack.is_empty()"
   ]
  },
  {
   "cell_type": "code",
   "execution_count": null,
   "metadata": {},
   "outputs": [],
   "source": []
  }
 ],
 "metadata": {
  "kernelspec": {
   "display_name": "Python 3",
   "language": "python",
   "name": "python3"
  },
  "language_info": {
   "codemirror_mode": {
    "name": "ipython",
    "version": 3
   },
   "file_extension": ".py",
   "mimetype": "text/x-python",
   "name": "python",
   "nbconvert_exporter": "python",
   "pygments_lexer": "ipython3",
   "version": "3.6.6"
  }
 },
 "nbformat": 4,
 "nbformat_minor": 2
}
