{
 "cells": [
  {
   "cell_type": "code",
   "execution_count": 4,
   "metadata": {},
   "outputs": [
    {
     "name": "stdout",
     "output_type": "stream",
     "text": [
      "5:30\n"
     ]
    }
   ],
   "source": [
    "class Clock(object):\n",
    "    def __init__(self, time):\n",
    "        self.time = time\n",
    "    def print_time(self):\n",
    "        time = '6:30'\n",
    "        print(self.time)\n",
    "\n",
    "clock = Clock('5:30')\n",
    "clock.print_time()"
   ]
  },
  {
   "cell_type": "code",
   "execution_count": 5,
   "metadata": {},
   "outputs": [
    {
     "name": "stdout",
     "output_type": "stream",
     "text": [
      "10:30\n"
     ]
    }
   ],
   "source": [
    "class Clock(object):\n",
    "    def __init__(self, time):\n",
    "        self.time = time\n",
    "    def print_time(self, time):\n",
    "        print(time)\n",
    "\n",
    "clock = Clock('5:30')\n",
    "clock.print_time('10:30')"
   ]
  },
  {
   "cell_type": "code",
   "execution_count": 6,
   "metadata": {},
   "outputs": [
    {
     "name": "stdout",
     "output_type": "stream",
     "text": [
      "10:30\n"
     ]
    }
   ],
   "source": [
    "class Clock(object):\n",
    "    def __init__(self, time):\n",
    "        self.time = time\n",
    "    def print_time(self):\n",
    "        print(self.time)\n",
    "\n",
    "boston_clock = Clock('5:30')\n",
    "paris_clock = boston_clock\n",
    "paris_clock.time = '10:30'\n",
    "boston_clock.print_time()"
   ]
  },
  {
   "cell_type": "code",
   "execution_count": 7,
   "metadata": {},
   "outputs": [],
   "source": [
    "class Weird(object):\n",
    "    def __init__(self, x, y): \n",
    "        self.y = y\n",
    "        self.x = x\n",
    "    def getX(self):\n",
    "        return x \n",
    "    def getY(self):\n",
    "        return y\n",
    "\n",
    "class Wild(object):\n",
    "    def __init__(self, x, y): \n",
    "        self.y = y\n",
    "        self.x = x\n",
    "    def getX(self):\n",
    "        return self.x \n",
    "    def getY(self):\n",
    "        return self.y\n",
    "\n",
    "X = 7\n",
    "Y = 8\n"
   ]
  },
  {
   "cell_type": "code",
   "execution_count": 10,
   "metadata": {},
   "outputs": [
    {
     "ename": "NameError",
     "evalue": "name 'x' is not defined",
     "output_type": "error",
     "traceback": [
      "\u001b[0;31m---------------------------------------------------------------------------\u001b[0m",
      "\u001b[0;31mNameError\u001b[0m                                 Traceback (most recent call last)",
      "\u001b[0;32m<ipython-input-10-b3d1f7977049>\u001b[0m in \u001b[0;36m<module>\u001b[0;34m\u001b[0m\n\u001b[1;32m      1\u001b[0m \u001b[0mw1\u001b[0m \u001b[0;34m=\u001b[0m \u001b[0mWeird\u001b[0m\u001b[0;34m(\u001b[0m\u001b[0;34m'd'\u001b[0m\u001b[0;34m,\u001b[0m \u001b[0mY\u001b[0m\u001b[0;34m)\u001b[0m\u001b[0;34m\u001b[0m\u001b[0;34m\u001b[0m\u001b[0m\n\u001b[0;32m----> 2\u001b[0;31m \u001b[0mprint\u001b[0m\u001b[0;34m(\u001b[0m\u001b[0mw1\u001b[0m\u001b[0;34m.\u001b[0m\u001b[0mgetX\u001b[0m\u001b[0;34m(\u001b[0m\u001b[0;34m)\u001b[0m\u001b[0;34m)\u001b[0m\u001b[0;34m\u001b[0m\u001b[0;34m\u001b[0m\u001b[0m\n\u001b[0m",
      "\u001b[0;32m<ipython-input-7-0af6d0868a38>\u001b[0m in \u001b[0;36mgetX\u001b[0;34m(self)\u001b[0m\n\u001b[1;32m      4\u001b[0m         \u001b[0mself\u001b[0m\u001b[0;34m.\u001b[0m\u001b[0mx\u001b[0m \u001b[0;34m=\u001b[0m \u001b[0mx\u001b[0m\u001b[0;34m\u001b[0m\u001b[0;34m\u001b[0m\u001b[0m\n\u001b[1;32m      5\u001b[0m     \u001b[0;32mdef\u001b[0m \u001b[0mgetX\u001b[0m\u001b[0;34m(\u001b[0m\u001b[0mself\u001b[0m\u001b[0;34m)\u001b[0m\u001b[0;34m:\u001b[0m\u001b[0;34m\u001b[0m\u001b[0;34m\u001b[0m\u001b[0m\n\u001b[0;32m----> 6\u001b[0;31m         \u001b[0;32mreturn\u001b[0m \u001b[0mx\u001b[0m\u001b[0;34m\u001b[0m\u001b[0;34m\u001b[0m\u001b[0m\n\u001b[0m\u001b[1;32m      7\u001b[0m     \u001b[0;32mdef\u001b[0m \u001b[0mgetY\u001b[0m\u001b[0;34m(\u001b[0m\u001b[0mself\u001b[0m\u001b[0;34m)\u001b[0m\u001b[0;34m:\u001b[0m\u001b[0;34m\u001b[0m\u001b[0;34m\u001b[0m\u001b[0m\n\u001b[1;32m      8\u001b[0m         \u001b[0;32mreturn\u001b[0m \u001b[0my\u001b[0m\u001b[0;34m\u001b[0m\u001b[0;34m\u001b[0m\u001b[0m\n",
      "\u001b[0;31mNameError\u001b[0m: name 'x' is not defined"
     ]
    }
   ],
   "source": [
    "w1 = Weird('d', Y)\n",
    "print(w1.getX())"
   ]
  },
  {
   "cell_type": "code",
   "execution_count": 11,
   "metadata": {},
   "outputs": [
    {
     "name": "stdout",
     "output_type": "stream",
     "text": [
      "7\n"
     ]
    }
   ],
   "source": [
    "w2 = Wild(X, Y)\n",
    "print(w2.getX())"
   ]
  },
  {
   "cell_type": "code",
   "execution_count": 12,
   "metadata": {},
   "outputs": [
    {
     "name": "stdout",
     "output_type": "stream",
     "text": [
      "17\n"
     ]
    }
   ],
   "source": [
    "w3 = Wild(17, 18)\n",
    "print(w3.getX())"
   ]
  },
  {
   "cell_type": "code",
   "execution_count": 17,
   "metadata": {},
   "outputs": [
    {
     "name": "stdout",
     "output_type": "stream",
     "text": [
      "7\n"
     ]
    }
   ],
   "source": [
    "X = 7\n",
    "w4 = Wild(X, 18)\n",
    "\n",
    "print(w4.getX())"
   ]
  },
  {
   "cell_type": "code",
   "execution_count": 18,
   "metadata": {},
   "outputs": [],
   "source": [
    "X = 31"
   ]
  },
  {
   "cell_type": "code",
   "execution_count": 19,
   "metadata": {},
   "outputs": [
    {
     "name": "stdout",
     "output_type": "stream",
     "text": [
      "7\n"
     ]
    }
   ],
   "source": [
    "print(w4.getX())"
   ]
  },
  {
   "cell_type": "code",
   "execution_count": 34,
   "metadata": {},
   "outputs": [],
   "source": [
    "class intSet(object):\n",
    "    \"\"\"An intSet is a set of integers\n",
    "    The value is represented by a list of ints, self.vals.\n",
    "    Each int in the set occurs in self.vals exactly once.\"\"\"\n",
    "\n",
    "    def __init__(self):\n",
    "        \"\"\"Create an empty set of integers\"\"\"\n",
    "        self.vals = []\n",
    "\n",
    "    def insert(self, e):\n",
    "        \"\"\"Assumes e is an integer and inserts e into self\"\"\" \n",
    "        if not e in self.vals:\n",
    "            self.vals.append(e)\n",
    "\n",
    "    def member(self, e):\n",
    "        \"\"\"Assumes e is an integer\n",
    "           Returns True if e is in self, and False otherwise\"\"\"\n",
    "        return e in self.vals\n",
    "\n",
    "    def remove(self, e):\n",
    "        \"\"\"Assumes e is an integer and removes e from self\n",
    "           Raises ValueError if e is not in self\"\"\"\n",
    "        try:\n",
    "            self.vals.remove(e)\n",
    "        except:\n",
    "            raise ValueError(str(e) + ' not found')\n",
    "\n",
    "    def __str__(self):\n",
    "        \"\"\"Returns a string representation of self\"\"\"\n",
    "        self.vals.sort()\n",
    "        return '{' + ','.join([str(e) for e in self.vals]) + '}'\n",
    "        \n",
    "    def intersect(self,other):\n",
    "        assert type(self) == type(other)\n",
    "        assert len(set(self)) != 0\n",
    "        assert len(set(other)) != 0 \n",
    "        common_c = []\n",
    "        for i in self.vals:\n",
    "            if i in other.vals:\n",
    "                common_c.append(i)\n",
    "        return common_c"
   ]
  },
  {
   "cell_type": "code",
   "execution_count": 35,
   "metadata": {},
   "outputs": [],
   "source": [
    "new = intSet()\n",
    "# __intersect"
   ]
  },
  {
   "cell_type": "code",
   "execution_count": 36,
   "metadata": {},
   "outputs": [
    {
     "ename": "AssertionError",
     "evalue": "",
     "output_type": "error",
     "traceback": [
      "\u001b[0;31m---------------------------------------------------------------------------\u001b[0m",
      "\u001b[0;31mAssertionError\u001b[0m                            Traceback (most recent call last)",
      "\u001b[0;32m<ipython-input-36-8d38df3045f5>\u001b[0m in \u001b[0;36m<module>\u001b[0;34m\u001b[0m\n\u001b[0;32m----> 1\u001b[0;31m \u001b[0mnew\u001b[0m\u001b[0;34m.\u001b[0m\u001b[0mintersect\u001b[0m\u001b[0;34m(\u001b[0m\u001b[0;34m[\u001b[0m\u001b[0;36m1\u001b[0m\u001b[0;34m,\u001b[0m\u001b[0;36m3\u001b[0m\u001b[0;34m]\u001b[0m\u001b[0;34m)\u001b[0m\u001b[0;34m\u001b[0m\u001b[0;34m\u001b[0m\u001b[0m\n\u001b[0m",
      "\u001b[0;32m<ipython-input-34-c07a36d035ab>\u001b[0m in \u001b[0;36mintersect\u001b[0;34m(self, other)\u001b[0m\n\u001b[1;32m     32\u001b[0m \u001b[0;34m\u001b[0m\u001b[0m\n\u001b[1;32m     33\u001b[0m     \u001b[0;32mdef\u001b[0m \u001b[0mintersect\u001b[0m\u001b[0;34m(\u001b[0m\u001b[0mself\u001b[0m\u001b[0;34m,\u001b[0m\u001b[0mother\u001b[0m\u001b[0;34m)\u001b[0m\u001b[0;34m:\u001b[0m\u001b[0;34m\u001b[0m\u001b[0;34m\u001b[0m\u001b[0m\n\u001b[0;32m---> 34\u001b[0;31m         \u001b[0;32massert\u001b[0m \u001b[0mtype\u001b[0m\u001b[0;34m(\u001b[0m\u001b[0mself\u001b[0m\u001b[0;34m)\u001b[0m \u001b[0;34m==\u001b[0m \u001b[0mtype\u001b[0m\u001b[0;34m(\u001b[0m\u001b[0mother\u001b[0m\u001b[0;34m)\u001b[0m\u001b[0;34m\u001b[0m\u001b[0;34m\u001b[0m\u001b[0m\n\u001b[0m\u001b[1;32m     35\u001b[0m         \u001b[0;32massert\u001b[0m \u001b[0mlen\u001b[0m\u001b[0;34m(\u001b[0m\u001b[0mset\u001b[0m\u001b[0;34m(\u001b[0m\u001b[0mself\u001b[0m\u001b[0;34m)\u001b[0m\u001b[0;34m)\u001b[0m \u001b[0;34m!=\u001b[0m \u001b[0;36m0\u001b[0m\u001b[0;34m\u001b[0m\u001b[0;34m\u001b[0m\u001b[0m\n\u001b[1;32m     36\u001b[0m         \u001b[0;32massert\u001b[0m \u001b[0mlen\u001b[0m\u001b[0;34m(\u001b[0m\u001b[0mset\u001b[0m\u001b[0;34m(\u001b[0m\u001b[0mother\u001b[0m\u001b[0;34m)\u001b[0m\u001b[0;34m)\u001b[0m \u001b[0;34m!=\u001b[0m \u001b[0;36m0\u001b[0m\u001b[0;34m\u001b[0m\u001b[0;34m\u001b[0m\u001b[0m\n",
      "\u001b[0;31mAssertionError\u001b[0m: "
     ]
    }
   ],
   "source": [
    "new.intersect([1,3])"
   ]
  },
  {
   "cell_type": "code",
   "execution_count": 38,
   "metadata": {},
   "outputs": [
    {
     "name": "stdout",
     "output_type": "stream",
     "text": [
      "Accio\n",
      "Summoning Charm Accio\n",
      "No description\n",
      "Confundus Charm Confundo\n",
      "Causes the victim to become confused and befuddled.\n"
     ]
    }
   ],
   "source": [
    "class Spell(object):\n",
    "    def __init__(self, incantation, name):\n",
    "        self.name = name\n",
    "        self.incantation = incantation\n",
    "\n",
    "    def __str__(self):\n",
    "        return self.name + ' ' + self.incantation + '\\n' + self.getDescription()\n",
    "              \n",
    "    def getDescription(self):\n",
    "        return 'No description'\n",
    "    \n",
    "    def execute(self):\n",
    "        print(self.incantation)\n",
    "\n",
    "\n",
    "class Accio(Spell):\n",
    "    def __init__(self):\n",
    "        Spell.__init__(self, 'Accio', 'Summoning Charm')\n",
    "\n",
    "class Confundo(Spell):\n",
    "    def __init__(self):\n",
    "        Spell.__init__(self, 'Confundo', 'Confundus Charm')\n",
    "\n",
    "    def getDescription(self):\n",
    "        return 'Causes the victim to become confused and befuddled.'\n",
    "\n",
    "def studySpell(spell):\n",
    "    print(spell)\n",
    "\n",
    "# spell = Accio()\n",
    "spell.execute()\n",
    "studySpell(spell)\n",
    "studySpell(Confundo())"
   ]
  },
  {
   "cell_type": "code",
   "execution_count": null,
   "metadata": {},
   "outputs": [],
   "source": []
  }
 ],
 "metadata": {
  "kernelspec": {
   "display_name": "Python 3",
   "language": "python",
   "name": "python3"
  },
  "language_info": {
   "codemirror_mode": {
    "name": "ipython",
    "version": 3
   },
   "file_extension": ".py",
   "mimetype": "text/x-python",
   "name": "python",
   "nbconvert_exporter": "python",
   "pygments_lexer": "ipython3",
   "version": "3.6.9"
  }
 },
 "nbformat": 4,
 "nbformat_minor": 4
}
