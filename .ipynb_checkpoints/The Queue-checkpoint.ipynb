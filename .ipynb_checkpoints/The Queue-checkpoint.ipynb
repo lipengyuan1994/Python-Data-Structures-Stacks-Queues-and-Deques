{
 "cells": [
  {
   "cell_type": "markdown",
   "metadata": {},
   "source": [
    "# Queues as a linear abstract data type\n"
   ]
  },
  {
   "cell_type": "markdown",
   "metadata": {},
   "source": [
    "* Let's talk about what makes the queue class unique especially in comparison to stacks. Here's a high level definition of what a queue is. Queues hold a collection of items in the order in which they were added. Items are added to the back of a queue and removed from the front of the queue. If you think of a queue as a line of costumers, a customer adds themselves to the end of the line and eventually leaves from the front of the line. This is called **first-in first-out or FIFO**. Note that this is subtly different from **stacks which are last-in first-out**.\n",
    "* Queues also preserve order so when you think about people joining a line, the order is preserved there as well. Just as we did for the stack class, we can see if there is a built-in data type we could use to implement the queue behind the scenes. Again, we can use a list because a list is an ordered collection of items that we can modify. When we code our queue class, we're going to use the right side or end of a list to represent the front of the queue. We do this because we can remove an item from the end of a list in constant time.\n",
    "* So if we make the end of the list match the front of the queue, we can always remove items from the queue in constant time. This means we'll have to use the left side of the list as the rear of our queue. Consequently, we'll be adding items to the queue in linear time. It's linear time because when we insert an item into a list's zeroth index, it causes all the other items to have to shift one index to the right. **The larger our queue gets, **the longer it will take to enqueue an item into it.\n",
    "* We could have arbitrarily chosen to represent the queue as a list where we remove from the left side in linear time and add from the right side in constant time. We'd still wind up with one operation being oh of one and the other operation being oh of N. The basic functionality for a queue is getting items into and out of the list we are using as a representation of the queue. **When we're talking about adding items to this list, the word we use is enqueue**.\n",
    "* **And when we're talking about removing items, the word we use is dequeue**. Any data type that can be stored in a list can be stored in a queue. And we call a queue limited access because we can only access the data from one place which is the front of the queue. We may also want to know whether or not a queue is empty, how many items are in it or which item is at the front of the queue? We'll create a method for each of those capabilities later on.\n",
    "* The queue linear data structure is especially useful **when we need to process information in the same order in which the information became available**. For example, a print queue, so that documents are printed in the order in which they were sent to the machine. Queues have another unique property about them and that is that they are also **recursive data structures**. A queue is either empty or it consists of a front item and the rest of which is also a queue. We won't discuss recursion in this course but knowing that a queue is a recursive data structure may come in handy in an interview."
   ]
  },
  {
   "cell_type": "markdown",
   "metadata": {},
   "source": [
    "# Creating the queue class and its methods\n"
   ]
  },
  {
   "cell_type": "markdown",
   "metadata": {},
   "source": [
    "* Let's stub out our queue class and its methods. We can call our class just queue, and we talked earlier about how we're going to represent our queue as a list. So in our init method, we can do again like we did for stacks, self dot items equals an empty list. Now, our basic functionality is we need to get things into and out of our queue, and the words that we use for that are enqueue for adding and dequeue for removing.\n",
    "* So first we can stub out the enqueue method, and we will have to pass in as a parameter the item that we want to add to our queue, and we'll just write pass here for now, and then we can move on to the dequeue method. And we don't need to pass in an item here because remember, we're always going to be popping off the end of the list which automatically takes the last item of the list for us. In addition to the basic functionality of enqueueing and dequeueing, we may also want to know what is the next item in the queue that's going to be removed, and we call that peek, and we'll just pass that for now.\n",
    "* Another thing we might want to check is the size of our queue, which basically means the length of the underlying list, and finally we might want to know whether or not the queue is empty. I'll save that file."
   ]
  },
  {
   "cell_type": "code",
   "execution_count": 1,
   "metadata": {},
   "outputs": [],
   "source": [
    "class Queue:\n",
    "\n",
    "    def __init__(self):\n",
    "        self.items = []\n",
    "\n",
    "    def enqueue(self, item):\n",
    "        pass\n",
    "\n",
    "    def dequeue(self):\n",
    "        pass\n",
    "        \n",
    "    def peek(self):\n",
    "        pass\n",
    "\n",
    "    def size(self):\n",
    "        pass\n",
    "\n",
    "    def is_empty(self):\n",
    "        pass\n"
   ]
  },
  {
   "cell_type": "markdown",
   "metadata": {},
   "source": [
    "# enqueue()\n"
   ]
  },
  {
   "cell_type": "markdown",
   "metadata": {},
   "source": [
    "* Let's start coding the minimal functionality we need for our Queue class. We'll start with the enqueue method. Again, as we talked about, we have to pass in as a parameter the item that we want to add into the queue, and in the body of our method, we're going to need to do something with that. Now we know that we're going to be operating on our empty list, which is called items, but instead of appending the item to the end of the list, like we did for a stack, we want to now insert the item into the zeroth index of the list.\n",
    "* And we talked about how the reason we do that is because we want to sort of save the end of the list for popping and use the front of the list for inserting. So I'll save that. I'll create my own Queue object first, and next I will enqueue an item into it. So my_q.enqueue(), and let's add in a string containing the word apple.\n",
    "If I want to check that it worked, I just need to look at the items attribute. So my_q.items gives a list that has the string 'apple' in it. So we know it works, but let's double-check to make sure that the enqueue method is actually inserting items into the zeroth position of the list like we wanted it to. So I will run the enqueue method again, this time with the string 'banana', and what should happen when I double-check the attributes is 'banana' should be appearing to the left of 'apple', and that's exactly what happens.\n",
    "Now we can go back to our code file and enter in the docstring and the note about runtime. So this method takes in an item and inserts that item into the zeroth index of the list that is representing the Queue. Because we're always inserting into the zeroth element of the list, it forces all of the existing elements one index to the right.\n",
    "So if we have n number of elements in our list, the runtime would be O of n. Let's paraphrase that here in our docstring. We'll say, the runtime is O(n), or linear time, because inserting into the 0th index of a list forces all the other items in the list to move one index to the right. I'll just make an adjustment here for my spacing, and we're all set."
   ]
  },
  {
   "cell_type": "code",
   "execution_count": 2,
   "metadata": {},
   "outputs": [],
   "source": [
    "class Queue:\n",
    "\n",
    "    def __init__(self):\n",
    "        self.items = []\n",
    "\n",
    "    def enqueue(self, item):\n",
    "        \"\"\"Takes in an item and inserts that item into the 0th index of the list\n",
    "        that is representing the Queue.\n",
    "\n",
    "        The runtime is O(n), or linear time, because inserting into the 0th\n",
    "        index of a list forces all the other items in the list to move one index\n",
    "        to the right.\n",
    "        \"\"\"\n",
    "        self.items.insert(0, item)\n",
    "\n",
    "    def dequeue(self):\n",
    "        pass\n",
    "        \n",
    "    def peek(self):\n",
    "        pass\n",
    "\n",
    "    def size(self):\n",
    "        pass\n",
    "\n",
    "    def is_empty(self):\n",
    "        pass\n"
   ]
  },
  {
   "cell_type": "code",
   "execution_count": 3,
   "metadata": {},
   "outputs": [
    {
     "data": {
      "text/plain": [
       "['apple']"
      ]
     },
     "execution_count": 3,
     "metadata": {},
     "output_type": "execute_result"
    }
   ],
   "source": [
    "my_q = Queue()\n",
    "my_q.enqueue('apple')\n",
    "my_q.items"
   ]
  },
  {
   "cell_type": "code",
   "execution_count": 4,
   "metadata": {},
   "outputs": [],
   "source": [
    "my_q.enqueue('banana')"
   ]
  },
  {
   "cell_type": "code",
   "execution_count": 5,
   "metadata": {},
   "outputs": [
    {
     "data": {
      "text/plain": [
       "['banana', 'apple']"
      ]
     },
     "execution_count": 5,
     "metadata": {},
     "output_type": "execute_result"
    }
   ],
   "source": [
    "my_q.items\n",
    "# banana should appear behind the apple"
   ]
  },
  {
   "cell_type": "markdown",
   "metadata": {},
   "source": [
    "# dequeue()\n"
   ]
  },
  {
   "cell_type": "markdown",
   "metadata": {},
   "source": [
    "* Now that we've coded the enqueue method which helps us get an item into the queue, let's code the dequeue method which will help us get items out of the queue. Now since we are using a list to represent our queue and we are representing the front of the queue with the end of the list. If we use the list's built-in pop method, we'll always get back the front-most item of the queue, because the **pop method always returns the last item in the list**. So let's go ahead and do that. We'll return self dot items dot pop.\n",
    "* So we'll do my Q dot enqueue, and we'll add the string, apple. Okay, and if we check the my Q dot items attribute, we should get a list that has apple in it, yep, we do.\n",
    "* Now let's dequeue this, let's get apple out of there. So we'll say my Q dot dequeue. We should get apple back to our screen, yep. If we run my Q dot items again, we get an empty list. Let's test the case where we try to dequeue from an empty list. So if I do my Q dot dequeue, I'm probably going to get an error. Yep, I get an index error, and it's saying, basically, that I can't pop an item from a list that has no items.\n",
    "* So we can go back to our code and add a little conditional statement to handle that. We can say if self dot items, meaning if there is something in the items list, then we'll pop something from it. Otherwise, we'll just return none. Let's go back to the terminal and try that out. So I'll have to exit the interpreter and restart this. And recreate my Q object, and straightaway I'm just going to try to dequeue from this, and I should not get an error this time.\n",
    "* It should just return none. And that's what happens, we can double check by saying my Q dot items, it should be an empty list, which it is, great, so we've handled that situation. Now we can go back and add the dock string and our note about the runtime. Let's summarize what this method does. So the dequeue method returns the front-most item, or we should say returns and removes the front-most item from a queue.\n",
    "* Returns and removes the front-most item of the queue, which is represented by the last item in the list. As for the runtime, when we append to or remove from the last item in the list, what we're effectively doing is indexing to the last item of the list, and that happens in constant time, therefore the dequeue method also happens in constant time.\n",
    "* So we'll just say the runtime is of **one or a constant time** because indexing to the end of a list happens in constant time."
   ]
  },
  {
   "cell_type": "code",
   "execution_count": 10,
   "metadata": {},
   "outputs": [],
   "source": [
    "class Queue:\n",
    "\n",
    "    def __init__(self):\n",
    "        self.items = []\n",
    "\n",
    "    def enqueue(self, item):\n",
    "        \"\"\"Takes in an item and inserts that item into the 0th index of the list\n",
    "        that is representing the Queue.\n",
    "\n",
    "        The runtime is O(n), or linear time, because inserting into the 0th\n",
    "        index of a list forces all the other items in the list to move one index\n",
    "        to the right.\n",
    "        \"\"\"\n",
    "        self.items.insert(0, item)\n",
    "\n",
    "    def dequeue(self):\n",
    "        \"\"\"Returns and removes the front-most item of the Queue, which is\n",
    "        represented by the last item in the list.\n",
    "\n",
    "        The runtime is O(1), or constant time, because indexing to the end of a\n",
    "        list happens in constant time.\n",
    "        \"\"\"\n",
    "        if self.items:\n",
    "            return self.items.pop()\n",
    "        else:\n",
    "            return None\n",
    "\n",
    "    def peek(self):\n",
    "        pass\n",
    "\n",
    "    def size(self):\n",
    "        pass\n",
    "\n",
    "    def is_empty(self):\n",
    "        pass\n"
   ]
  },
  {
   "cell_type": "code",
   "execution_count": 11,
   "metadata": {},
   "outputs": [
    {
     "data": {
      "text/plain": [
       "['apple']"
      ]
     },
     "execution_count": 11,
     "metadata": {},
     "output_type": "execute_result"
    }
   ],
   "source": [
    "my_q = Queue()\n",
    "my_q.enqueue('apple')\n",
    "my_q.items"
   ]
  },
  {
   "cell_type": "code",
   "execution_count": 12,
   "metadata": {},
   "outputs": [
    {
     "data": {
      "text/plain": [
       "'apple'"
      ]
     },
     "execution_count": 12,
     "metadata": {},
     "output_type": "execute_result"
    }
   ],
   "source": [
    "my_q.dequeue()"
   ]
  },
  {
   "cell_type": "code",
   "execution_count": 13,
   "metadata": {},
   "outputs": [
    {
     "data": {
      "text/plain": [
       "[]"
      ]
     },
     "execution_count": 13,
     "metadata": {},
     "output_type": "execute_result"
    }
   ],
   "source": [
    "my_q.items"
   ]
  },
  {
   "cell_type": "markdown",
   "metadata": {},
   "source": [
    "# peek()\n"
   ]
  },
  {
   "cell_type": "markdown",
   "metadata": {},
   "source": [
    "* We've covered the basic functionality with enqueue and dequeue but what if we just want to look at what the next item in the queue is that's going to be removed next. We can use our peek method for that. \n",
    "* I'll create my own queue object. And let's try this just as the object is. We haven't added anything to it yet which means that items should be empty and it is. So if we say my_q.peek() we get an error. List index out of range. So what's happening is we're trying to access the negative first index but we don't even have anything in the list to index into.\n",
    "* We can handle this situation in our code. What we want to say is as long as there are items in the list show me the last item in the list. The way we can do that is simply if self.items. Return the last item. Otherwise if the list is empty we'll just return none. \n",
    "* This time when I call peek it should just return none because we haven't added anything to our list yet and that's what happens. So now let's enqueue something. We'll enqueue the string apple. And let's also enqueue the string banana. Just double check that these got added the way we expected.\n",
    "* Yep that makes sense, we're adding from the left and removing from the right. So now when we call the peek method we should see apple. And it is. Now the difference between peek and dequeue is that peek doesn't remove anything, it only shows it to us. So we can double check that nothing has been removed by looking at the items again. And it's just fine. Let's go back to our code and add a doc string and details about the run time.\n",
    "* In summery the peek method **returns the last item in the list which represents the first**, or the front item of the queue. So we'll just say that returns the last item in the list which represents the first item, well let's say front most, front most item in the queue. And again since we're just indexing to the last index of the list and returning the value we find there, nothing too complicated the run times going to be O of 1 or constant time.\n",
    "* So the run time is **constant** because we're just indexing to the last item of the list and returning the value found there."
   ]
  },
  {
   "cell_type": "code",
   "execution_count": 14,
   "metadata": {},
   "outputs": [],
   "source": [
    "class Queue:\n",
    "\n",
    "    def __init__(self):\n",
    "        self.items = []\n",
    "\n",
    "    def enqueue(self, item):\n",
    "        \"\"\"Takes in an item and inserts that item into the 0th index of the list\n",
    "        that is representing the Queue.\n",
    "\n",
    "        The runtime is O(n), or linear time, because inserting into the 0th\n",
    "        index of a list forces all the other items in the list to move one index\n",
    "        to the right.\n",
    "        \"\"\"\n",
    "        self.items.insert(0, item)\n",
    "\n",
    "    def dequeue(self):\n",
    "        \"\"\"Returns and removes the front-most item of the Queue, which is\n",
    "        represented by the last item in the list.\n",
    "\n",
    "        The runtime is O(1), or constant time, because indexing to the end of a\n",
    "        list happens in constant time.\n",
    "        \"\"\"\n",
    "        if self.items:\n",
    "            return self.items.pop()\n",
    "        return None\n",
    "\n",
    "    def peek(self):\n",
    "        \"\"\"Returns the last item in the list. which represents the front-most\n",
    "        item in the Queue.\n",
    "\n",
    "        The runtime is constant because we're just indexing to the last item of\n",
    "        the list and returning the value found there.\n",
    "        \"\"\"\n",
    "\n",
    "        if self.items:\n",
    "            return self.items[-1]\n",
    "        return None\n",
    "\n",
    "    def size(self):\n",
    "        pass\n",
    "\n",
    "    def is_empty(self):\n",
    "        pass\n"
   ]
  },
  {
   "cell_type": "code",
   "execution_count": 16,
   "metadata": {},
   "outputs": [
    {
     "name": "stdout",
     "output_type": "stream",
     "text": [
      "None\n"
     ]
    }
   ],
   "source": [
    "my_q = Queue()\n",
    "print(my_q.peek())"
   ]
  },
  {
   "cell_type": "code",
   "execution_count": 17,
   "metadata": {},
   "outputs": [],
   "source": [
    "my_q.enqueue('apple')\n",
    "my_q.enqueue('banaba')"
   ]
  },
  {
   "cell_type": "code",
   "execution_count": 18,
   "metadata": {},
   "outputs": [
    {
     "data": {
      "text/plain": [
       "['banaba', 'apple']"
      ]
     },
     "execution_count": 18,
     "metadata": {},
     "output_type": "execute_result"
    }
   ],
   "source": [
    "my_q.items"
   ]
  },
  {
   "cell_type": "code",
   "execution_count": 19,
   "metadata": {},
   "outputs": [
    {
     "data": {
      "text/plain": [
       "'apple'"
      ]
     },
     "execution_count": 19,
     "metadata": {},
     "output_type": "execute_result"
    }
   ],
   "source": [
    "my_q.peek()"
   ]
  },
  {
   "cell_type": "code",
   "execution_count": 20,
   "metadata": {},
   "outputs": [
    {
     "data": {
      "text/plain": [
       "['banaba', 'apple']"
      ]
     },
     "execution_count": 20,
     "metadata": {},
     "output_type": "execute_result"
    }
   ],
   "source": [
    "my_q.items"
   ]
  },
  {
   "cell_type": "code",
   "execution_count": null,
   "metadata": {},
   "outputs": [],
   "source": []
  }
 ],
 "metadata": {
  "kernelspec": {
   "display_name": "Python 3",
   "language": "python",
   "name": "python3"
  },
  "language_info": {
   "codemirror_mode": {
    "name": "ipython",
    "version": 3
   },
   "file_extension": ".py",
   "mimetype": "text/x-python",
   "name": "python",
   "nbconvert_exporter": "python",
   "pygments_lexer": "ipython3",
   "version": "3.6.6"
  }
 },
 "nbformat": 4,
 "nbformat_minor": 2
}
