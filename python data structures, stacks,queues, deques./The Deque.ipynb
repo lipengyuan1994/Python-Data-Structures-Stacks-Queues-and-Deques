{
 "cells": [
  {
   "cell_type": "markdown",
   "metadata": {},
   "source": [
    "# Dequeues as a linear abstract data type\n"
   ]
  },
  {
   "cell_type": "markdown",
   "metadata": {},
   "source": [
    "* Let's talk through what makes the deque class unique in comparison to other linear data structures. And also touch on the basic functionality we need a deque to have. First of all, deque stands for double-ended queue where we take the D, the E, and the first three letters of queue and put them all together to create this new word called deque. **High level definition of a deque is that it's an abstract data type that resembles both a stack and a queue**. Deques can hold a collection of items and order is sort of preserved in a deque.\n",
    "* You'll see soon why I use the phrase sort of. In a deque, **you can add items both to the front and to the back and you can remove items from the front and back as well**. When it comes to implementing a deque, our first consideration is whether or not Python has a built-in data type that we could use behind the scenes. Just like for the stack and queue data structures, we can use a list to implement a deque because a list is an ordered collection of items that we can modify.\n",
    "* Here you can see we have a list with five items in it. If we imagine that we could bisect the list, you'll see that the right hand side is very similar to a stack because we would add and remove from the end of this list or where the fourth index is. If this were a queue, we would also be removing an item from the queue on this side. On the left side, if this were a queue, we would be adding here into the zeroth index. The only other thing we need to accomplish is being able to remove from the front which would be a method that would be unique to the deque class.\n",
    "* Because we can add and remove items on both sides of a deque, we need to use method names that specify which end of the deque the operation is happening on. **So we'll use add front and add rear and remove front and remove rear to make that distinction**. We may also want to know whether or not the deque is empty, how many items are in it, or which item is at either end and we'll create a method for each of those capabilities later on.\n",
    "* **A queue uses a first-in first-out or FIFO model and a stack uses a last-in first-out or LIFO model**. An interesting thing about the deque class is that it can use either of those models or both of those models at the same time since we are allowed to add and remove from both ends. It's up to the programmer though to enforce those qualities on either end of the deque if they choose to do so. We can arbitrarily choose which end of the deque we want to be at the front and which we want to be at the rear since there isn't any runtime advantage of choosing one side over the other side to be the front.\n",
    "* The reason is that whether we want to add or remove from the left side of the list or add or remove from the right side of the list, we're going to be in constant runtime or linear runtime depending on which side we choose to be the front. **Any data type that can be stored in a list can be stored in a deque**. And a deque is also a limited access data structure because we can only access the data from either end. The deque data structure is a solid way to approach the solution for a common interview question which is to check whether or not a string is a palindrome.\n",
    "* A palindrome is a word that is spelled both the same backwards and forwards. So the deque data structure is a good approach for this problem."
   ]
  },
  {
   "cell_type": "markdown",
   "metadata": {},
   "source": [
    "# Creating the deque class and its methods \n"
   ]
  },
  {
   "cell_type": "code",
   "execution_count": 1,
   "metadata": {},
   "outputs": [],
   "source": [
    "class Deque:\n",
    "\n",
    "    def __init__(self):\n",
    "        self.items = []\n",
    "\n",
    "    def add_front(self, item):\n",
    "        pass\n",
    "\n",
    "    def add_rear(self, item):\n",
    "        pass\n",
    "\n",
    "    def remove_front(self):\n",
    "        pass\n",
    "\n",
    "    def remove_rear(self):\n",
    "        pass\n",
    "\n",
    "    def peek_front(self):\n",
    "        pass\n",
    "\n",
    "    def peek_rear(self):\n",
    "        pass\n",
    "\n",
    "    def size(self):\n",
    "        pass\n",
    "\n",
    "    def is_empty(self):\n",
    "        pass\n"
   ]
  },
  {
   "cell_type": "markdown",
   "metadata": {},
   "source": [
    "# add_rear() and add_front()\n"
   ]
  },
  {
   "cell_type": "code",
   "execution_count": 2,
   "metadata": {},
   "outputs": [],
   "source": [
    "class Deque:\n",
    "\n",
    "    def __init__(self):\n",
    "        self.items = []\n",
    "\n",
    "    def add_front(self, item):\n",
    "        \"\"\"Takes an item as a parameter and inserts it into the 0th index\n",
    "        of the list that is representing the Deque.\n",
    "\n",
    "        The runtime is linear, or O(n), because every time you insert into the\n",
    "        front of a list, all the other items in the list need to shift one\n",
    "        position to the right.\n",
    "        \"\"\"\n",
    "\n",
    "        self.items.insert(0, item)\n",
    "\n",
    "    def add_rear(self, item):\n",
    "        \"\"\"Takes in an item as aparameter and appends that item to the end of\n",
    "        the list that is representing the Deque.\n",
    "\n",
    "        The runtime is constant because appending to the end of a list happens\n",
    "        in constant time.\n",
    "        \"\"\"\n",
    "\n",
    "        self.items.append(item)\n",
    "\n",
    "    def remove_front(self):\n",
    "        pass\n",
    "\n",
    "    def remove_rear(self):\n",
    "        pass\n",
    "\n",
    "    def peek_front(self):\n",
    "        pass\n",
    "\n",
    "    def peek_rear(self):\n",
    "        pass\n",
    "\n",
    "    def size(self):\n",
    "        pass\n",
    "\n",
    "    def is_empty(self):\n",
    "        pass\n"
   ]
  },
  {
   "cell_type": "markdown",
   "metadata": {},
   "source": [
    "# remove_rear() and remove_front()\n"
   ]
  },
  {
   "cell_type": "code",
   "execution_count": 3,
   "metadata": {},
   "outputs": [],
   "source": [
    "class Deque:\n",
    "\n",
    "    def __init__(self):\n",
    "        self.items = []\n",
    "\n",
    "    def add_front(self, item):\n",
    "        \"\"\"Takes an item as a parameter and inserts it into the 0th index\n",
    "        of the list that is representing the Deque.\n",
    "\n",
    "        The runtime is linear, or O(n), because every time you insert into the\n",
    "        front of a list, all the other items in the list need to shift one\n",
    "        position to the right.\n",
    "        \"\"\"\n",
    "\n",
    "        self.items.insert(0, item)\n",
    "\n",
    "    def add_rear(self, item):\n",
    "        \"\"\"Takes in an item as aparameter and appends that item to the end of\n",
    "        the list that is representing the Deque.\n",
    "\n",
    "        The runtime is constant because appending to the end of a list happens\n",
    "        in constant time.\n",
    "        \"\"\"\n",
    "\n",
    "        self.items.append(item)\n",
    "\n",
    "    def remove_front(self):\n",
    "        \"\"\"Removes and returns the item in the 0th index of the list, which\n",
    "        represents the front of the Deque.\n",
    "\n",
    "        The runtime is linear, or O(n), because when we remove an item from the\n",
    "        0th index, all the other items have to shift one index to the left.\n",
    "        \"\"\"\n",
    "\n",
    "        if self.items:\n",
    "            return self.items.pop(0)\n",
    "        return None\n",
    "\n",
    "    def remove_rear(self):\n",
    "        \"\"\"Removes and returns the last item of the list, which represents the\n",
    "        rear of the Deque.\n",
    "\n",
    "        The runtime is constant because all we're doing is indexing to the end\n",
    "        of a list.\n",
    "        \"\"\"\n",
    "\n",
    "        if self.items:\n",
    "            return self.items.pop()\n",
    "        return None\n",
    "\n",
    "    def peek_front(self):\n",
    "        pass\n",
    "\n",
    "    def peek_rear(self):\n",
    "        pass\n",
    "\n",
    "    def size(self):\n",
    "        pass\n",
    "\n",
    "    def is_empty(self):\n",
    "        pass\n"
   ]
  },
  {
   "cell_type": "code",
   "execution_count": 4,
   "metadata": {},
   "outputs": [
    {
     "data": {
      "text/plain": [
       "['carrot', 'banana', 'apple']"
      ]
     },
     "execution_count": 4,
     "metadata": {},
     "output_type": "execute_result"
    }
   ],
   "source": [
    "my_d = Deque()\n",
    "my_d.add_front('apple')\n",
    "my_d.add_front('banana')\n",
    "my_d.add_front('carrot')\n",
    "my_d.items"
   ]
  },
  {
   "cell_type": "code",
   "execution_count": 5,
   "metadata": {},
   "outputs": [
    {
     "data": {
      "text/plain": [
       "'carrot'"
      ]
     },
     "execution_count": 5,
     "metadata": {},
     "output_type": "execute_result"
    }
   ],
   "source": [
    "my_d.remove_front()"
   ]
  },
  {
   "cell_type": "code",
   "execution_count": 6,
   "metadata": {},
   "outputs": [
    {
     "data": {
      "text/plain": [
       "['banana', 'apple']"
      ]
     },
     "execution_count": 6,
     "metadata": {},
     "output_type": "execute_result"
    }
   ],
   "source": [
    "my_d.items"
   ]
  },
  {
   "cell_type": "code",
   "execution_count": 7,
   "metadata": {},
   "outputs": [
    {
     "data": {
      "text/plain": [
       "'apple'"
      ]
     },
     "execution_count": 7,
     "metadata": {},
     "output_type": "execute_result"
    }
   ],
   "source": [
    "my_d.remove_rear()"
   ]
  },
  {
   "cell_type": "code",
   "execution_count": 8,
   "metadata": {},
   "outputs": [
    {
     "data": {
      "text/plain": [
       "['banana']"
      ]
     },
     "execution_count": 8,
     "metadata": {},
     "output_type": "execute_result"
    }
   ],
   "source": [
    "my_d.items"
   ]
  },
  {
   "cell_type": "markdown",
   "metadata": {},
   "source": [
    "# peek_rear() and peek_front()\n"
   ]
  },
  {
   "cell_type": "code",
   "execution_count": 9,
   "metadata": {},
   "outputs": [],
   "source": [
    "class Deque:\n",
    "\n",
    "    def __init__(self):\n",
    "        self.items = []\n",
    "\n",
    "    def add_front(self, item):\n",
    "        \"\"\"Takes an item as a parameter and inserts it into the 0th index\n",
    "        of the list that is representing the Deque.\n",
    "\n",
    "        The runtime is linear, or O(n), because every time you insert into the\n",
    "        front of a list, all the other items in the list need to shift one\n",
    "        position to the right.\n",
    "        \"\"\"\n",
    "\n",
    "        self.items.insert(0, item)\n",
    "\n",
    "    def add_rear(self, item):\n",
    "        \"\"\"Takes in an item as aparameter and appends that item to the end of\n",
    "        the list that is representing the Deque.\n",
    "\n",
    "        The runtime is constant because appending to the end of a list happens\n",
    "        in constant time.\n",
    "        \"\"\"\n",
    "\n",
    "        self.items.append(item)\n",
    "\n",
    "    def remove_front(self):\n",
    "        \"\"\"Removes and returns the item in the 0th index of the list, which\n",
    "        represents the front of the Deque.\n",
    "\n",
    "        The runtime is linear, or O(n), because when we remove an item from the\n",
    "        0th index, all the other items have to shift one index to the left.\n",
    "        \"\"\"\n",
    "\n",
    "        if self.items:\n",
    "            return self.items.pop(0)\n",
    "        return None\n",
    "\n",
    "    def remove_rear(self):\n",
    "        \"\"\"Removes and returns the last item of the list, which represents the\n",
    "        rear of the Deque.\n",
    "\n",
    "        The runtime is constant because all we're doing is indexing to the end\n",
    "        of a list.\n",
    "        \"\"\"\n",
    "\n",
    "        if self.items:\n",
    "            return self.items.pop()\n",
    "        return None\n",
    "\n",
    "    def peek_front(self):\n",
    "        \"\"\"Returns the value found at the 0th index of the list, which represents\n",
    "        the front of the Deque.\n",
    "\n",
    "        The runtime is constant because al we're doing is indexing into a list.\n",
    "        \"\"\"\n",
    "\n",
    "        if self.items:\n",
    "            return self.items[0]\n",
    "        return None\n",
    "\n",
    "    def peek_rear(self):\n",
    "        \"\"\"Returns the value found at the -1st, or last, index.\n",
    "\n",
    "        The runtime is constant because all we're doing is indexing into a\n",
    "        list.\"\"\"\n",
    "        if self.items:\n",
    "            return self.items[-1]\n",
    "        return None\n",
    "\n",
    "    def size(self):\n",
    "        pass\n",
    "\n",
    "    def is_empty(self):\n",
    "        pass\n"
   ]
  },
  {
   "cell_type": "code",
   "execution_count": 10,
   "metadata": {},
   "outputs": [],
   "source": [
    "my_d =Deque()\n",
    "my_d.peek_front()"
   ]
  },
  {
   "cell_type": "code",
   "execution_count": 11,
   "metadata": {},
   "outputs": [
    {
     "name": "stdout",
     "output_type": "stream",
     "text": [
      "None\n"
     ]
    }
   ],
   "source": [
    "print (my_d.peek_rear())"
   ]
  },
  {
   "cell_type": "code",
   "execution_count": 12,
   "metadata": {},
   "outputs": [
    {
     "data": {
      "text/plain": [
       "['banana', 'apple']"
      ]
     },
     "execution_count": 12,
     "metadata": {},
     "output_type": "execute_result"
    }
   ],
   "source": [
    "my_d.add_front('apple')\n",
    "my_d.add_front('banana')\n",
    "my_d.items"
   ]
  },
  {
   "cell_type": "code",
   "execution_count": 13,
   "metadata": {},
   "outputs": [
    {
     "data": {
      "text/plain": [
       "'banana'"
      ]
     },
     "execution_count": 13,
     "metadata": {},
     "output_type": "execute_result"
    }
   ],
   "source": [
    "my_d.peek_front()"
   ]
  },
  {
   "cell_type": "code",
   "execution_count": 14,
   "metadata": {},
   "outputs": [
    {
     "data": {
      "text/plain": [
       "'apple'"
      ]
     },
     "execution_count": 14,
     "metadata": {},
     "output_type": "execute_result"
    }
   ],
   "source": [
    "my_d.peek_rear()"
   ]
  },
  {
   "cell_type": "markdown",
   "metadata": {},
   "source": [
    "# size() and is_empty()\n"
   ]
  },
  {
   "cell_type": "code",
   "execution_count": 15,
   "metadata": {},
   "outputs": [],
   "source": [
    "class Deque:\n",
    "\n",
    "    def __init__(self):\n",
    "        self.items = []\n",
    "\n",
    "    def add_front(self, item):\n",
    "        \"\"\"Takes an item as a parameter and inserts it into the 0th index\n",
    "        of the list that is representing the Deque.\n",
    "\n",
    "        The runtime is linear, or O(n), because every time you insert into the\n",
    "        front of a list, all the other items in the list need to shift one\n",
    "        position to the right.\n",
    "        \"\"\"\n",
    "\n",
    "        self.items.insert(0, item)\n",
    "\n",
    "    def add_rear(self, item):\n",
    "        \"\"\"Takes in an item as aparameter and appends that item to the end of\n",
    "        the list that is representing the Deque.\n",
    "\n",
    "        The runtime is constant because appending to the end of a list happens\n",
    "        in constant time.\n",
    "        \"\"\"\n",
    "\n",
    "        self.items.append(item)\n",
    "\n",
    "    def remove_front(self):\n",
    "        \"\"\"Removes and returns the item in the 0th index of the list, which\n",
    "        represents the front of the Deque.\n",
    "\n",
    "        The runtime is linear, or O(n), because when we remove an item from the\n",
    "        0th index, all the other items have to shift one index to the left.\n",
    "        \"\"\"\n",
    "\n",
    "        if self.items:\n",
    "            return self.items.pop(0)\n",
    "        return None\n",
    "\n",
    "    def remove_rear(self):\n",
    "        \"\"\"Removes and returns the last item of the list, which represents the\n",
    "        rear of the Deque.\n",
    "\n",
    "        The runtime is constant because all we're doing is indexing to the end\n",
    "        of a list.\n",
    "        \"\"\"\n",
    "\n",
    "        if self.items:\n",
    "            return self.items.pop()\n",
    "        return None\n",
    "\n",
    "    def peek_front(self):\n",
    "        \"\"\"Returns the value found at the 0th index of the list, which represents\n",
    "        the front of the Deque.\n",
    "\n",
    "        The runtime is constant because al we're doing is indexing into a list.\n",
    "        \"\"\"\n",
    "\n",
    "        if self.items:\n",
    "            return self.items[0]\n",
    "        return None\n",
    "\n",
    "    def peek_rear(self):\n",
    "        \"\"\"Returns the value found at the -1st, or last, index.\n",
    "\n",
    "        The runtime is constant because all we're doing is indexing into a\n",
    "        list.\"\"\"\n",
    "        if self.items:\n",
    "            return self.items[-1]\n",
    "        return None\n",
    "\n",
    "    def size(self):\n",
    "        \"\"\"Returns the length of the list, which is representing the Deque.\n",
    "\n",
    "        The runtime will be constant because all we're doing is finding the length\n",
    "        of a list and returning that value.\"\"\"\n",
    "\n",
    "        return len(self.items)\n",
    "\n",
    "    def is_empty(self):\n",
    "        \"\"\"Checks to see if the list representing our Deque is empty. Returns True\n",
    "        if it is, or False if it isn't.\n",
    "\n",
    "        The runtime is constant because all we're doing is comparing two values.\n",
    "        \"\"\"\n",
    "\n",
    "        return self.items == []\n"
   ]
  },
  {
   "cell_type": "code",
   "execution_count": 16,
   "metadata": {},
   "outputs": [
    {
     "data": {
      "text/plain": [
       "True"
      ]
     },
     "execution_count": 16,
     "metadata": {},
     "output_type": "execute_result"
    }
   ],
   "source": [
    "my_d =Deque()\n",
    "my_d.is_empty()"
   ]
  },
  {
   "cell_type": "code",
   "execution_count": 17,
   "metadata": {},
   "outputs": [
    {
     "data": {
      "text/plain": [
       "False"
      ]
     },
     "execution_count": 17,
     "metadata": {},
     "output_type": "execute_result"
    }
   ],
   "source": [
    "my_d.add_front('apple')\n",
    "my_d.is_empty()"
   ]
  },
  {
   "cell_type": "code",
   "execution_count": 18,
   "metadata": {},
   "outputs": [
    {
     "data": {
      "text/plain": [
       "1"
      ]
     },
     "execution_count": 18,
     "metadata": {},
     "output_type": "execute_result"
    }
   ],
   "source": [
    "my_d.size()"
   ]
  },
  {
   "cell_type": "code",
   "execution_count": null,
   "metadata": {},
   "outputs": [],
   "source": []
  },
  {
   "cell_type": "code",
   "execution_count": null,
   "metadata": {},
   "outputs": [],
   "source": []
  }
 ],
 "metadata": {
  "kernelspec": {
   "display_name": "Python 3",
   "language": "python",
   "name": "python3"
  },
  "language_info": {
   "codemirror_mode": {
    "name": "ipython",
    "version": 3
   },
   "file_extension": ".py",
   "mimetype": "text/x-python",
   "name": "python",
   "nbconvert_exporter": "python",
   "pygments_lexer": "ipython3",
   "version": "3.6.6"
  }
 },
 "nbformat": 4,
 "nbformat_minor": 2
}
