{
 "cells": [
  {
   "cell_type": "markdown",
   "metadata": {},
   "source": [
    "* The prompt is to create three classes that, together, model how a printer could take print jobs out of a print queue. There are a few requirements. \n",
    "* The first is a class called PrintQueue that follows the queue data structure implementation. \n",
    "* The second requirement would be a class called Job, that has a pages attribute and each job can have one to 10 pages. You can assign this number randomly in your program.\n",
    "* The job class should also have a print page method that decrements page and a check complete method, which will check whether or not all the pages have been printed. The third requirement is a printer class. The printer class should have a get job method that makes use of the queues built-in de-queue method to take the first job in the print queue off of the queue. Make sure you account for the case where printqueue.items is empty, or else you'll get an error.\n"
   ]
  },
  {
   "cell_type": "code",
   "execution_count": 1,
   "metadata": {},
   "outputs": [],
   "source": [
    "import random\n",
    "\n",
    "class PrintQueue:\n",
    "\n",
    "    def __init__(self):\n",
    "        self.items = []\n",
    "\n",
    "    def enqueue(self, item):\n",
    "        self.items.insert(0, item)\n",
    "\n",
    "    def dequeue(self):\n",
    "        return self.items.pop()\n",
    "\n",
    "    def is_empty():\n",
    "        return self.items == []\n",
    "\n",
    "\n",
    "class Job:\n",
    "\n",
    "    def __init__(self):\n",
    "        self.pages = random.randint(1, 11)\n",
    "\n",
    "    def print_page(self):\n",
    "        if self.pages > 0:\n",
    "            self.pages -= 1\n",
    "\n",
    "    def check_complete(self):\n",
    "        if self.pages == 0:\n",
    "            return True\n",
    "        return False\n",
    "\n",
    "\n",
    "class Printer:\n",
    "\n",
    "    def __init__(self):\n",
    "        self.current_job = None\n",
    "\n",
    "    def get_job(self, print_queue):\n",
    "        try:\n",
    "            self.current_job = print_queue.dequeue()\n",
    "        except IndexError:  # Queue is empty\n",
    "            return \"No more jobs to print.\"\n",
    "\n",
    "    def print_job(self, job):\n",
    "        while job.pages > 0:\n",
    "            job.print_page()\n",
    "\n",
    "        if job.check_complete():\n",
    "            return \"Printing complete.\"\n",
    "        else:\n",
    "            return \"An error occurred.\"\n"
   ]
  },
  {
   "cell_type": "code",
   "execution_count": 3,
   "metadata": {},
   "outputs": [],
   "source": [
    "job1 = Job()\n",
    "print_q = PrintQueue()\n",
    "printer = Printer()"
   ]
  },
  {
   "cell_type": "code",
   "execution_count": 4,
   "metadata": {},
   "outputs": [
    {
     "data": {
      "text/plain": [
       "[<__main__.Job at 0x1096da1d0>]"
      ]
     },
     "execution_count": 4,
     "metadata": {},
     "output_type": "execute_result"
    }
   ],
   "source": [
    "print_q.enqueue(job1)\n",
    "print_q.items"
   ]
  },
  {
   "cell_type": "code",
   "execution_count": 8,
   "metadata": {},
   "outputs": [
    {
     "data": {
      "text/plain": [
       "[]"
      ]
     },
     "execution_count": 8,
     "metadata": {},
     "output_type": "execute_result"
    }
   ],
   "source": [
    "printer.get_job(print_q)\n",
    "print_q.items"
   ]
  },
  {
   "cell_type": "code",
   "execution_count": 9,
   "metadata": {},
   "outputs": [
    {
     "data": {
      "text/plain": [
       "'Printing complete.'"
      ]
     },
     "execution_count": 9,
     "metadata": {},
     "output_type": "execute_result"
    }
   ],
   "source": [
    "printer.print_job(printer.current_job)"
   ]
  },
  {
   "cell_type": "code",
   "execution_count": null,
   "metadata": {},
   "outputs": [],
   "source": []
  }
 ],
 "metadata": {
  "kernelspec": {
   "display_name": "Python 3",
   "language": "python",
   "name": "python3"
  },
  "language_info": {
   "codemirror_mode": {
    "name": "ipython",
    "version": 3
   },
   "file_extension": ".py",
   "mimetype": "text/x-python",
   "name": "python",
   "nbconvert_exporter": "python",
   "pygments_lexer": "ipython3",
   "version": "3.6.6"
  }
 },
 "nbformat": 4,
 "nbformat_minor": 2
}
